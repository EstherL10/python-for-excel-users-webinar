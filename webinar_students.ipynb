{
  "nbformat": 4,
  "nbformat_minor": 0,
  "metadata": {
    "colab": {
      "name": "webinar_students.ipynb",
      "provenance": [],
      "toc_visible": true
    },
    "kernelspec": {
      "name": "python3",
      "display_name": "Python 3"
    }
  },
  "cells": [
    {
      "cell_type": "markdown",
      "metadata": {
        "id": "upgA33i96krb",
        "colab_type": "text"
      },
      "source": [
        "<p align=\"center\">\n",
        "<img src=\"https://cdn.datacamp.com/main-app/assets/brand/datacamp-horizontal-rgb-b641f95b7bdd7560b554c761a0b4910f9619907dd823c0e41244ed72078723bf.svg\" alt = \"DataCamp icon\" width=\"50%\">\n",
        "</p>\n",
        "<br><br>\n",
        "\n",
        "## **How to transition from Spreadsheets to Python**\n",
        "\n",
        "\n",
        "Welcome to this live, hands-on training where you will learn how to upgrade from being a spreadsheet user to using Python. \n",
        "\n",
        "In most organizations across all industries, data fluency, technical skills and a data-driven mindset are becoming sought after skills that drive organizational success in the digital age. This shift has spurred on the adoption of tools that go beyond spreadsheets, which allow for more robust data analysis, visualization and presentation. In this notebook, you will learn:\n",
        "\n",
        "* How to import Excel files into `pandas`.\n",
        "* Filter, add new columns, and explore DataFrames.\n",
        "* Apply common spreadsheets operations such as pivot tables and VLOOKUP in Python.\n",
        "* Present data as visualizations using `matplotlib` and `seaborn`.\n",
        "\n",
        "The dataset to be used in this webinar is an Excel file named `sales_data_dirty.xlsx` - it contains 4 sheets, each containing the following columns:\n",
        "\n",
        "<br>\n",
        "\n",
        "\n",
        "\n",
        "![alt](https://github.com/adelnehme/python-for-spreadsheet-users-webinar/blob/master/image.png?raw=true)"
      ]
    },
    {
      "cell_type": "markdown",
      "metadata": {
        "id": "aAVUCIhQnvqx",
        "colab_type": "text"
      },
      "source": [
        "## **Getting started with the dataset**"
      ]
    },
    {
      "cell_type": "code",
      "metadata": {
        "id": "-d04csgd6i0R",
        "colab_type": "code",
        "colab": {}
      },
      "source": [
        "# Import relevant packages\n",
        "import pandas as pd\n",
        "import matplotlib.pyplot as plt\n",
        "import seaborn as sns"
      ],
      "execution_count": 0,
      "outputs": []
    },
    {
      "cell_type": "code",
      "metadata": {
        "id": "hgWlh8epiOij",
        "colab_type": "code",
        "colab": {}
      },
      "source": [
        "# Import the data\n",
        "data = pd.ExcelFile('https://github.com/adelnehme/python-for-spreadsheet-users-webinar/blob/master/sales_data_dirty.xlsx?raw=true')"
      ],
      "execution_count": 0,
      "outputs": []
    },
    {
      "cell_type": "code",
      "metadata": {
        "id": "EMa8uUlAidFk",
        "colab_type": "code",
        "colab": {}
      },
      "source": [
        "# Print the name of the sheets\n"
      ],
      "execution_count": 0,
      "outputs": []
    },
    {
      "cell_type": "code",
      "metadata": {
        "id": "WlG46zdNidzz",
        "colab_type": "code",
        "colab": {}
      },
      "source": [
        "# Parse sales data\n",
        "\n",
        "# Print dimensions and glimpse\n"
      ],
      "execution_count": 0,
      "outputs": []
    },
    {
      "cell_type": "code",
      "metadata": {
        "id": "HBJhclwIijLQ",
        "colab_type": "code",
        "colab": {}
      },
      "source": [
        "# Parse customers data \n",
        "\n",
        "# Print dimensions and glimpse\n"
      ],
      "execution_count": 0,
      "outputs": []
    },
    {
      "cell_type": "code",
      "metadata": {
        "id": "eLRqU9yVj8lk",
        "colab_type": "code",
        "colab": {}
      },
      "source": [
        "# Parse dates data\n",
        "\n",
        "# Print dimensions and glimpse\n"
      ],
      "execution_count": 0,
      "outputs": []
    },
    {
      "cell_type": "code",
      "metadata": {
        "id": "dzdHh12loRMq",
        "colab_type": "code",
        "colab": {}
      },
      "source": [
        "# Parse employees data\n",
        "\n",
        "# Print dimensions and glimpse\n"
      ],
      "execution_count": 0,
      "outputs": []
    },
    {
      "cell_type": "markdown",
      "metadata": {
        "id": "SOJbq0UM8Ktk",
        "colab_type": "text"
      },
      "source": [
        "## **Better understanding our data**\n"
      ]
    },
    {
      "cell_type": "code",
      "metadata": {
        "id": "yyhXh1iL4IsA",
        "colab_type": "code",
        "colab": {}
      },
      "source": [
        "# Understand missingness of sales data\n"
      ],
      "execution_count": 0,
      "outputs": []
    },
    {
      "cell_type": "code",
      "metadata": {
        "id": "YtPmjfN54KsL",
        "colab_type": "code",
        "colab": {}
      },
      "source": [
        "# Understand distribution of sales data\n"
      ],
      "execution_count": 0,
      "outputs": []
    },
    {
      "cell_type": "code",
      "metadata": {
        "id": "Zv7IKkZ74Kzr",
        "colab_type": "code",
        "colab": {}
      },
      "source": [
        "# Make sure Status column has no other unique values\n"
      ],
      "execution_count": 0,
      "outputs": []
    },
    {
      "cell_type": "code",
      "metadata": {
        "id": "4LXx9pOH4Lem",
        "colab_type": "code",
        "colab": {}
      },
      "source": [
        "# Understand column types of dates and missingness\n"
      ],
      "execution_count": 0,
      "outputs": []
    },
    {
      "cell_type": "code",
      "metadata": {
        "id": "Di0X2oT04Lcd",
        "colab_type": "code",
        "colab": {}
      },
      "source": [
        "# Let's understand the degree of missingness in customers dataset\n"
      ],
      "execution_count": 0,
      "outputs": []
    },
    {
      "cell_type": "code",
      "metadata": {
        "id": "RPAMIxLxS7aO",
        "colab_type": "code",
        "colab": {}
      },
      "source": [
        "# How to find missing values?\n"
      ],
      "execution_count": 0,
      "outputs": []
    },
    {
      "cell_type": "markdown",
      "metadata": {
        "id": "W23hMUxKErvf",
        "colab_type": "text"
      },
      "source": [
        "## **Making our data analysis ready**\n"
      ]
    },
    {
      "cell_type": "code",
      "metadata": {
        "id": "6wZ7nyJj4LaW",
        "colab_type": "code",
        "colab": {}
      },
      "source": [
        "# Drop status column from sales\n"
      ],
      "execution_count": 0,
      "outputs": []
    },
    {
      "cell_type": "code",
      "metadata": {
        "id": "3b1XNVRd4LY8",
        "colab_type": "code",
        "colab": {}
      },
      "source": [
        "# Replace OnlineOrderFlag to offline and online\n",
        "\n",
        "# Make sure it is the case\n"
      ],
      "execution_count": 0,
      "outputs": []
    },
    {
      "cell_type": "code",
      "metadata": {
        "id": "SjRVVWDk4LWI",
        "colab_type": "code",
        "colab": {}
      },
      "source": [
        "# Convert data columns to datetime while keeping only Y,m,d\n"
      ],
      "execution_count": 0,
      "outputs": []
    },
    {
      "cell_type": "code",
      "metadata": {
        "id": "LXUpSdHX4LSq",
        "colab_type": "code",
        "colab": {}
      },
      "source": [
        "# Make sure now into datetime\n"
      ],
      "execution_count": 0,
      "outputs": []
    },
    {
      "cell_type": "code",
      "metadata": {
        "id": "u1ND9J_54LNq",
        "colab_type": "code",
        "colab": {}
      },
      "source": [
        "# Impute missing values based on key business assumptions\n"
      ],
      "execution_count": 0,
      "outputs": []
    },
    {
      "cell_type": "code",
      "metadata": {
        "id": "3KxSjVAU4LLF",
        "colab_type": "code",
        "colab": {}
      },
      "source": [
        "# Make sure no more missing data in ChannelType\n"
      ],
      "execution_count": 0,
      "outputs": []
    },
    {
      "cell_type": "code",
      "metadata": {
        "id": "BBPuJn114LIW",
        "colab_type": "code",
        "colab": {}
      },
      "source": [
        "# Combine first and last name in customers\n"
      ],
      "execution_count": 0,
      "outputs": []
    },
    {
      "cell_type": "code",
      "metadata": {
        "id": "uL_a6Z3irY7G",
        "colab_type": "code",
        "colab": {}
      },
      "source": [
        "# Combine first and last name in employees\n"
      ],
      "execution_count": 0,
      "outputs": []
    },
    {
      "cell_type": "markdown",
      "metadata": {
        "id": "qW0SStg_E-nJ",
        "colab_type": "text"
      },
      "source": [
        "## **Case studies**"
      ]
    },
    {
      "cell_type": "markdown",
      "metadata": {
        "id": "GDQpEkCImzL9",
        "colab_type": "text"
      },
      "source": [
        "### _Q1: How did we do in revenue over the years?_"
      ]
    },
    {
      "cell_type": "markdown",
      "metadata": {
        "id": "mfBFUvPQXZyZ",
        "colab_type": "text"
      },
      "source": [
        "Since we have revenue data for each `SalesOrderID` in the `sales` sheet - and the order date and ship date for each `SalesOrderID` in hte `dates` sheet - we can combine similar to how a VLOOKUP would work in spreadsheets with a DataFrame's `.merge()` method. \n",
        "\n",
        "<p align=\"center\">\n",
        "<img src=\"https://github.com/adelnehme/python-for-spreadsheet-users-webinar/blob/master/left_join.png?raw=True\" alt = \"DataCamp icon\" width=\"50%\">\n",
        "</p>\n",
        "\n",
        "\n",
        "An example of how to merge a DataFrame in pandas is included below, where we are merging `df_2` into `df_1` on a common column between them called `common_column`. The `how` argument determines which DataFrame to preserve - in this case it's `df_1` since it's on the **left**. This has the same logic as SQL joins as well.\n",
        "\n",
        "`df_1.merge(df_2, on = 'common_column', how = 'left')`\n"
      ]
    },
    {
      "cell_type": "code",
      "metadata": {
        "id": "GdhvX_CB4LF5",
        "colab_type": "code",
        "colab": {}
      },
      "source": [
        "# Merge data - the VLOOKUP of Excel\n"
      ],
      "execution_count": 0,
      "outputs": []
    },
    {
      "cell_type": "code",
      "metadata": {
        "id": "2L-Efjpx4LDN",
        "colab_type": "code",
        "colab": {}
      },
      "source": [
        "# Create column for year and month\n"
      ],
      "execution_count": 0,
      "outputs": []
    },
    {
      "cell_type": "markdown",
      "metadata": {
        "id": "j8YLYLe4Zs_d",
        "colab_type": "text"
      },
      "source": [
        "To calculate the total revenue per year, we need to perform something like a PIVOT TABLE in spreadsheet softwares. In pandas, there's a variety of ways to acheive this - there is even a `.pivot_table()` method. However we will be using instead the `.groupby()` method which takes in as argument the column name being grouped by, and can be chained with other methods to compute interesting statistics. Here's an example of grouping by the column `col_A` of the example DataFrame `df_1` and computing the sum of the remaining columns:\n",
        "\n",
        "`df_1.groupby('col_A').sum()`"
      ]
    },
    {
      "cell_type": "code",
      "metadata": {
        "id": "NLpVQ5OY4LAp",
        "colab_type": "code",
        "colab": {}
      },
      "source": [
        "# Extract revenue by year\n"
      ],
      "execution_count": 0,
      "outputs": []
    },
    {
      "cell_type": "markdown",
      "metadata": {
        "id": "0Cp3cw-ha_rV",
        "colab_type": "text"
      },
      "source": [
        "There are many ways to perform visualizations in Python - the two most widely used visualization packages are `seaborn` (which is usually imported as `sns`) and `matplotlib.pyplot` (which is usually imported as `plt`). \n",
        "\n",
        "Without going into the details, we will be creating and customizing two types of visualizations in this notebook by using these functions:\n",
        "\n",
        "- Barplots using `sns.barplot(x=,y=,data=)`\n",
        "  - `x`: The column name to be used on the x-axis.\n",
        "  - `y`: The column name to be used on the y-axis.\n",
        "  - `data`: The data used to visualize\n",
        "- Lineplots using `sns.lineplot(x=,y=,data=)`\n",
        "  - `x`: The column name to be used on the x-axis.\n",
        "  - `y`: The column name to be used on the y-axis.\n",
        "  - `data`: The data used to visualize\n",
        "- Setting figure labels by:\n",
        "  - `plt.xlabel()` to set the x-axis label.\n",
        "  - `plt.ylabel()` to set the y-axis label.\n",
        "  - `plt.title()` to set the x-axis label.\n",
        "  - `plt.xticks(rotation=)` to set the x-axis ticks with proper rotation\n",
        "- Showing the plot with `plt.show()`"
      ]
    },
    {
      "cell_type": "code",
      "metadata": {
        "id": "Ns-Vc_GS4K-b",
        "colab_type": "code",
        "colab": {}
      },
      "source": [
        "# Visualize it\n"
      ],
      "execution_count": 0,
      "outputs": []
    },
    {
      "cell_type": "code",
      "metadata": {
        "id": "pTdxEPc94K82",
        "colab_type": "code",
        "colab": {}
      },
      "source": [
        "# Is there seasonality?\n"
      ],
      "execution_count": 0,
      "outputs": []
    },
    {
      "cell_type": "code",
      "metadata": {
        "id": "awDjxQx14K7J",
        "colab_type": "code",
        "colab": {}
      },
      "source": [
        "# Visualize it\n"
      ],
      "execution_count": 0,
      "outputs": []
    },
    {
      "cell_type": "markdown",
      "metadata": {
        "id": "uIsHEbLlFGtn",
        "colab_type": "text"
      },
      "source": [
        "### _Q2: How is revenue divided by channel type overall and over time?_"
      ]
    },
    {
      "cell_type": "markdown",
      "metadata": {
        "id": "mpmB3J_Kidx0",
        "colab_type": "text"
      },
      "source": [
        "Similar to how we merged the `sales` sheet with the `dates` sheet when answering Q1, we will be merging the `sales` sheet with the `customers` sheet to get the channel type, employee and customer names for each `SalesOrderID`."
      ]
    },
    {
      "cell_type": "code",
      "metadata": {
        "id": "V2_olMaI4K5Q",
        "colab_type": "code",
        "colab": {}
      },
      "source": [
        "# Merge sales and customer data\n"
      ],
      "execution_count": 0,
      "outputs": []
    },
    {
      "cell_type": "code",
      "metadata": {
        "id": "rEDz2ZKo4KyG",
        "colab_type": "code",
        "colab": {}
      },
      "source": [
        "# Identify revenue and amount sold by channel\n"
      ],
      "execution_count": 0,
      "outputs": []
    },
    {
      "cell_type": "code",
      "metadata": {
        "id": "F01U4q9z4jff",
        "colab_type": "code",
        "colab": {}
      },
      "source": [
        "# Visualize\n"
      ],
      "execution_count": 0,
      "outputs": []
    },
    {
      "cell_type": "code",
      "metadata": {
        "id": "Kql3u8DH4jc4",
        "colab_type": "code",
        "colab": {}
      },
      "source": [
        "# Merge sales, dates and customers data\n"
      ],
      "execution_count": 0,
      "outputs": []
    },
    {
      "cell_type": "code",
      "metadata": {
        "id": "Cw4oqqKe4jaz",
        "colab_type": "code",
        "colab": {}
      },
      "source": [
        "# Group by year by channel type\n"
      ],
      "execution_count": 0,
      "outputs": []
    },
    {
      "cell_type": "code",
      "metadata": {
        "id": "9cWRLNkV4jYm",
        "colab_type": "code",
        "colab": {}
      },
      "source": [
        "# Visualize\n"
      ],
      "execution_count": 0,
      "outputs": []
    },
    {
      "cell_type": "markdown",
      "metadata": {
        "id": "tG5zLT6ilRUn",
        "colab_type": "text"
      },
      "source": [
        "### _Q3: Who are the employees responsible for the most B2B sales overall and in 2013?_"
      ]
    },
    {
      "cell_type": "code",
      "metadata": {
        "id": "liJNxutK4rVG",
        "colab_type": "code",
        "colab": {}
      },
      "source": [
        "# Group by employee performance\n"
      ],
      "execution_count": 0,
      "outputs": []
    },
    {
      "cell_type": "markdown",
      "metadata": {
        "id": "czsrlwlFlk_t",
        "colab_type": "text"
      },
      "source": [
        "To be able to truly see the highest earning employees - we can use the `.sort_values()` method of a DataFrame. For example, we can sort `col_A` of the example DataFrame `df_1` as such:\n",
        "\n",
        "`df_1.sort_values(by=,ascending=,inplace=)`\n",
        "\n",
        "* `by` takes in the column name being sorted by\n",
        "* `ascending` takes in `True` or `False` depending on whether we want to sort it by ascending order\n",
        "* `inplace` takes in `True` or `False` depending on whether we want to save our changes in the same DataFrame being sorted."
      ]
    },
    {
      "cell_type": "code",
      "metadata": {
        "id": "NBovRPzVFvoB",
        "colab_type": "code",
        "colab": {}
      },
      "source": [
        "# Sort it so we visualize it correctly\n"
      ],
      "execution_count": 0,
      "outputs": []
    },
    {
      "cell_type": "code",
      "metadata": {
        "id": "GCJVo_6t4rS0",
        "colab_type": "code",
        "colab": {}
      },
      "source": [
        "# Visualize\n"
      ],
      "execution_count": 0,
      "outputs": []
    },
    {
      "cell_type": "code",
      "metadata": {
        "id": "JYIPZ1TL4rPp",
        "colab_type": "code",
        "colab": {}
      },
      "source": [
        "# Group by employee performance and year\n"
      ],
      "execution_count": 0,
      "outputs": []
    },
    {
      "cell_type": "code",
      "metadata": {
        "id": "AYbLj8wHF7Id",
        "colab_type": "code",
        "colab": {}
      },
      "source": [
        "# Sort to make it easier to visualize\n"
      ],
      "execution_count": 0,
      "outputs": []
    },
    {
      "cell_type": "code",
      "metadata": {
        "id": "fCuXVq0l4rLx",
        "colab_type": "code",
        "colab": {}
      },
      "source": [
        "# Who was the best last year?\n"
      ],
      "execution_count": 0,
      "outputs": []
    },
    {
      "cell_type": "code",
      "metadata": {
        "id": "OEy96D3W4rJC",
        "colab_type": "code",
        "colab": {}
      },
      "source": [
        "# Visualize\n"
      ],
      "execution_count": 0,
      "outputs": []
    },
    {
      "cell_type": "markdown",
      "metadata": {
        "id": "ZiWyqK7RIelL",
        "colab_type": "text"
      },
      "source": [
        "### _Take-home question: Who were the highest earning (in compensation) employees in 2012?_"
      ]
    },
    {
      "cell_type": "markdown",
      "metadata": {
        "id": "QMAuLfrnnPBq",
        "colab_type": "text"
      },
      "source": [
        "**Clues:**\n",
        "- Compensation = Sales generated * Commission\n",
        "- You need to use the all four sheets\n",
        "- Sort your results by the amount of commission earned \n",
        "\n",
        "**Bonus points if:**\n",
        "- You make your chart extra pretty\n",
        "- Use syntax not covered in this session\n"
      ]
    }
  ]
}