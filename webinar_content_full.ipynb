{
  "nbformat": 4,
  "nbformat_minor": 0,
  "metadata": {
    "colab": {
      "name": "webinar_content_full.ipynb",
      "provenance": []
    },
    "kernelspec": {
      "name": "python3",
      "display_name": "Python 3"
    }
  },
  "cells": [
    {
      "cell_type": "markdown",
      "metadata": {
        "id": "upgA33i96krb",
        "colab_type": "text"
      },
      "source": [
        "<p align=\"center\">\n",
        "<img src=\"https://cdn.datacamp.com/main-app/assets/brand/datacamp-horizontal-rgb-b641f95b7bdd7560b554c761a0b4910f9619907dd823c0e41244ed72078723bf.svg\" alt = \"DataCamp icon\" width=\"50%\">\n",
        "</p>\n",
        "<br><br>\n",
        "\n",
        "# **How to transition from Spreadsheets to Python**\n",
        "\n",
        "\n",
        "Welcome to this live, hands-on training where you will learn how to upgrade from being a spreadsheet user to using Python. \n",
        "\n",
        "In most organizations across all industries, data fluency, technical skills and a data-driven mindset are becoming sought after skills that drive organizational success in the digital age. This shift has spurred on the adoption of tools that go beyond spreadsheets, which allow for more robust data analysis, visualization and presentation. In this notebook, you will learn:\n",
        "\n",
        "* How to import Excel files into `pandas`.\n",
        "* Filter, add new columns, and explore DataFrames.\n",
        "* Apply common spreadsheets operations such as pivot tables and VLOOKUP in Python.\n",
        "* Present data as visualizations using `matplotlib` and `seaborn`.\n",
        "\n",
        "The dataset to be used in this webinar is an Excel file named `sales_data_dirty.xlsx` - it contains 4 sheets, each containing the following columns:\n",
        "\n",
        "<br>\n",
        "\n",
        "\n",
        "\n",
        "![alt](https://github.com/adelnehme/test/blob/master/image.png?raw=true)"
      ]
    },
    {
      "cell_type": "markdown",
      "metadata": {
        "id": "aAVUCIhQnvqx",
        "colab_type": "text"
      },
      "source": [
        "## **Getting started with the dataset**"
      ]
    },
    {
      "cell_type": "code",
      "metadata": {
        "id": "-d04csgd6i0R",
        "colab_type": "code",
        "colab": {}
      },
      "source": [
        "# Import relevant packages\n",
        "import pandas as pd\n",
        "import matplotlib.pyplot as plt\n",
        "import seaborn as sns"
      ],
      "execution_count": 0,
      "outputs": []
    },
    {
      "cell_type": "code",
      "metadata": {
        "id": "hgWlh8epiOij",
        "colab_type": "code",
        "colab": {}
      },
      "source": [
        "# Import the data\n",
        "data = pd.ExcelFile('https://github.com/adelnehme/test/blob/master/sales_data_dirty.xlsx?raw=true')"
      ],
      "execution_count": 0,
      "outputs": []
    },
    {
      "cell_type": "code",
      "metadata": {
        "id": "EMa8uUlAidFk",
        "colab_type": "code",
        "outputId": "424971fe-14c0-4cb4-e0a2-6182206fc6ed",
        "colab": {
          "base_uri": "https://localhost:8080/",
          "height": 34
        }
      },
      "source": [
        "# Print the name of the sheets\n",
        "data.sheet_names"
      ],
      "execution_count": 0,
      "outputs": [
        {
          "output_type": "execute_result",
          "data": {
            "text/plain": [
              "['sales', 'customers', 'dates', 'employees']"
            ]
          },
          "metadata": {
            "tags": []
          },
          "execution_count": 9
        }
      ]
    },
    {
      "cell_type": "code",
      "metadata": {
        "id": "WlG46zdNidzz",
        "colab_type": "code",
        "outputId": "b57a833c-911d-4f32-bce2-479a29775068",
        "colab": {
          "base_uri": "https://localhost:8080/",
          "height": 221
        }
      },
      "source": [
        "# Parse sales data\n",
        "sales = data.parse('sales')\n",
        "# Print dimensions and glimpse\n",
        "print(sales.shape)\n",
        "sales.head(5)"
      ],
      "execution_count": 0,
      "outputs": [
        {
          "output_type": "stream",
          "text": [
            "(31465, 5)\n"
          ],
          "name": "stdout"
        },
        {
          "output_type": "execute_result",
          "data": {
            "text/html": [
              "<div>\n",
              "<style scoped>\n",
              "    .dataframe tbody tr th:only-of-type {\n",
              "        vertical-align: middle;\n",
              "    }\n",
              "\n",
              "    .dataframe tbody tr th {\n",
              "        vertical-align: top;\n",
              "    }\n",
              "\n",
              "    .dataframe thead th {\n",
              "        text-align: right;\n",
              "    }\n",
              "</style>\n",
              "<table border=\"1\" class=\"dataframe\">\n",
              "  <thead>\n",
              "    <tr style=\"text-align: right;\">\n",
              "      <th></th>\n",
              "      <th>SalesOrderID</th>\n",
              "      <th>TotalDue</th>\n",
              "      <th>NumberofItems</th>\n",
              "      <th>OnlineOrderFlag</th>\n",
              "      <th>Status</th>\n",
              "    </tr>\n",
              "  </thead>\n",
              "  <tbody>\n",
              "    <tr>\n",
              "      <th>0</th>\n",
              "      <td>43659</td>\n",
              "      <td>23153.2339</td>\n",
              "      <td>12</td>\n",
              "      <td>0</td>\n",
              "      <td>5</td>\n",
              "    </tr>\n",
              "    <tr>\n",
              "      <th>1</th>\n",
              "      <td>43660</td>\n",
              "      <td>1457.3288</td>\n",
              "      <td>2</td>\n",
              "      <td>0</td>\n",
              "      <td>5</td>\n",
              "    </tr>\n",
              "    <tr>\n",
              "      <th>2</th>\n",
              "      <td>43661</td>\n",
              "      <td>36865.8012</td>\n",
              "      <td>15</td>\n",
              "      <td>0</td>\n",
              "      <td>5</td>\n",
              "    </tr>\n",
              "    <tr>\n",
              "      <th>3</th>\n",
              "      <td>43662</td>\n",
              "      <td>32474.9324</td>\n",
              "      <td>22</td>\n",
              "      <td>0</td>\n",
              "      <td>5</td>\n",
              "    </tr>\n",
              "    <tr>\n",
              "      <th>4</th>\n",
              "      <td>43663</td>\n",
              "      <td>472.3108</td>\n",
              "      <td>1</td>\n",
              "      <td>0</td>\n",
              "      <td>5</td>\n",
              "    </tr>\n",
              "  </tbody>\n",
              "</table>\n",
              "</div>"
            ],
            "text/plain": [
              "   SalesOrderID    TotalDue  NumberofItems  OnlineOrderFlag  Status\n",
              "0         43659  23153.2339             12                0       5\n",
              "1         43660   1457.3288              2                0       5\n",
              "2         43661  36865.8012             15                0       5\n",
              "3         43662  32474.9324             22                0       5\n",
              "4         43663    472.3108              1                0       5"
            ]
          },
          "metadata": {
            "tags": []
          },
          "execution_count": 4
        }
      ]
    },
    {
      "cell_type": "code",
      "metadata": {
        "id": "HBJhclwIijLQ",
        "colab_type": "code",
        "outputId": "e320bd21-cf0c-428d-9eb7-353440bdc175",
        "colab": {
          "base_uri": "https://localhost:8080/",
          "height": 221
        }
      },
      "source": [
        "# Parse customers data \n",
        "customers = data.parse('customers')\n",
        "# Print dimensions and glimpse\n",
        "print(customers.shape)\n",
        "customers.head(5)"
      ],
      "execution_count": 0,
      "outputs": [
        {
          "output_type": "stream",
          "text": [
            "(31465, 6)\n"
          ],
          "name": "stdout"
        },
        {
          "output_type": "execute_result",
          "data": {
            "text/html": [
              "<div>\n",
              "<style scoped>\n",
              "    .dataframe tbody tr th:only-of-type {\n",
              "        vertical-align: middle;\n",
              "    }\n",
              "\n",
              "    .dataframe tbody tr th {\n",
              "        vertical-align: top;\n",
              "    }\n",
              "\n",
              "    .dataframe thead th {\n",
              "        text-align: right;\n",
              "    }\n",
              "</style>\n",
              "<table border=\"1\" class=\"dataframe\">\n",
              "  <thead>\n",
              "    <tr style=\"text-align: right;\">\n",
              "      <th></th>\n",
              "      <th>SalesOrderID</th>\n",
              "      <th>CustomerFirstName</th>\n",
              "      <th>CustomerLastName</th>\n",
              "      <th>EmployeeFirstName</th>\n",
              "      <th>EmployeeLastName</th>\n",
              "      <th>ChannelType</th>\n",
              "    </tr>\n",
              "  </thead>\n",
              "  <tbody>\n",
              "    <tr>\n",
              "      <th>0</th>\n",
              "      <td>43659</td>\n",
              "      <td>NaN</td>\n",
              "      <td>NaN</td>\n",
              "      <td>Tsvi</td>\n",
              "      <td>Reiter</td>\n",
              "      <td>NaN</td>\n",
              "    </tr>\n",
              "    <tr>\n",
              "      <th>1</th>\n",
              "      <td>43660</td>\n",
              "      <td>NaN</td>\n",
              "      <td>NaN</td>\n",
              "      <td>Tsvi</td>\n",
              "      <td>Reiter</td>\n",
              "      <td>NaN</td>\n",
              "    </tr>\n",
              "    <tr>\n",
              "      <th>2</th>\n",
              "      <td>43661</td>\n",
              "      <td>NaN</td>\n",
              "      <td>NaN</td>\n",
              "      <td>José</td>\n",
              "      <td>Saraiva</td>\n",
              "      <td>NaN</td>\n",
              "    </tr>\n",
              "    <tr>\n",
              "      <th>3</th>\n",
              "      <td>43662</td>\n",
              "      <td>NaN</td>\n",
              "      <td>NaN</td>\n",
              "      <td>José</td>\n",
              "      <td>Saraiva</td>\n",
              "      <td>NaN</td>\n",
              "    </tr>\n",
              "    <tr>\n",
              "      <th>4</th>\n",
              "      <td>43663</td>\n",
              "      <td>NaN</td>\n",
              "      <td>NaN</td>\n",
              "      <td>Linda</td>\n",
              "      <td>Mitchell</td>\n",
              "      <td>NaN</td>\n",
              "    </tr>\n",
              "  </tbody>\n",
              "</table>\n",
              "</div>"
            ],
            "text/plain": [
              "   SalesOrderID CustomerFirstName  ... EmployeeLastName ChannelType\n",
              "0         43659               NaN  ...           Reiter         NaN\n",
              "1         43660               NaN  ...           Reiter         NaN\n",
              "2         43661               NaN  ...          Saraiva         NaN\n",
              "3         43662               NaN  ...          Saraiva         NaN\n",
              "4         43663               NaN  ...         Mitchell         NaN\n",
              "\n",
              "[5 rows x 6 columns]"
            ]
          },
          "metadata": {
            "tags": []
          },
          "execution_count": 5
        }
      ]
    },
    {
      "cell_type": "markdown",
      "metadata": {
        "id": "WDAKYjP57y5I",
        "colab_type": "text"
      },
      "source": [
        "***Insight:*** There is missing data for `CustomerFirstName`, `CustomerLastName`, `EmployeeFirstName`, `EmployeeLastName` and `ChannelType` - we need to better understand the mechanisms of why this data is missing and how to best approach it."
      ]
    },
    {
      "cell_type": "code",
      "metadata": {
        "id": "eLRqU9yVj8lk",
        "colab_type": "code",
        "outputId": "cbb7010b-d76b-4c63-8ff7-5782b2f2ad31",
        "colab": {
          "base_uri": "https://localhost:8080/",
          "height": 221
        }
      },
      "source": [
        "# Parse dates data\n",
        "dates = data.parse('dates')\n",
        "# Print dimensions and glimpse\n",
        "print(dates.shape)\n",
        "dates.head(5)"
      ],
      "execution_count": 0,
      "outputs": [
        {
          "output_type": "stream",
          "text": [
            "(31465, 3)\n"
          ],
          "name": "stdout"
        },
        {
          "output_type": "execute_result",
          "data": {
            "text/html": [
              "<div>\n",
              "<style scoped>\n",
              "    .dataframe tbody tr th:only-of-type {\n",
              "        vertical-align: middle;\n",
              "    }\n",
              "\n",
              "    .dataframe tbody tr th {\n",
              "        vertical-align: top;\n",
              "    }\n",
              "\n",
              "    .dataframe thead th {\n",
              "        text-align: right;\n",
              "    }\n",
              "</style>\n",
              "<table border=\"1\" class=\"dataframe\">\n",
              "  <thead>\n",
              "    <tr style=\"text-align: right;\">\n",
              "      <th></th>\n",
              "      <th>SalesOrderID</th>\n",
              "      <th>OrderDate</th>\n",
              "      <th>ShipDate</th>\n",
              "    </tr>\n",
              "  </thead>\n",
              "  <tbody>\n",
              "    <tr>\n",
              "      <th>0</th>\n",
              "      <td>43659</td>\n",
              "      <td>2011-05-31 00:00:00</td>\n",
              "      <td>2011-06-07 00:00:00</td>\n",
              "    </tr>\n",
              "    <tr>\n",
              "      <th>1</th>\n",
              "      <td>43660</td>\n",
              "      <td>2011-05-31 00:00:00</td>\n",
              "      <td>2011-06-07 00:00:00</td>\n",
              "    </tr>\n",
              "    <tr>\n",
              "      <th>2</th>\n",
              "      <td>43661</td>\n",
              "      <td>2011-05-31 00:00:00</td>\n",
              "      <td>2011-06-07 00:00:00</td>\n",
              "    </tr>\n",
              "    <tr>\n",
              "      <th>3</th>\n",
              "      <td>43662</td>\n",
              "      <td>2011-05-31 00:00:00</td>\n",
              "      <td>2011-06-07 00:00:00</td>\n",
              "    </tr>\n",
              "    <tr>\n",
              "      <th>4</th>\n",
              "      <td>43663</td>\n",
              "      <td>2011-05-31 00:00:00</td>\n",
              "      <td>2011-06-07 00:00:00</td>\n",
              "    </tr>\n",
              "  </tbody>\n",
              "</table>\n",
              "</div>"
            ],
            "text/plain": [
              "   SalesOrderID            OrderDate             ShipDate\n",
              "0         43659  2011-05-31 00:00:00  2011-06-07 00:00:00\n",
              "1         43660  2011-05-31 00:00:00  2011-06-07 00:00:00\n",
              "2         43661  2011-05-31 00:00:00  2011-06-07 00:00:00\n",
              "3         43662  2011-05-31 00:00:00  2011-06-07 00:00:00\n",
              "4         43663  2011-05-31 00:00:00  2011-06-07 00:00:00"
            ]
          },
          "metadata": {
            "tags": []
          },
          "execution_count": 14
        }
      ]
    },
    {
      "cell_type": "code",
      "metadata": {
        "id": "dzdHh12loRMq",
        "colab_type": "code",
        "outputId": "d16574db-d8f9-4a36-a72f-869b0da653ea",
        "colab": {
          "base_uri": "https://localhost:8080/",
          "height": 221
        }
      },
      "source": [
        "# Parse employees data\n",
        "employees = data.parse('employees')\n",
        "# Print dimensions and glimpse\n",
        "print(employees.shape)\n",
        "employees.head(5)"
      ],
      "execution_count": 0,
      "outputs": [
        {
          "output_type": "stream",
          "text": [
            "(17, 5)\n"
          ],
          "name": "stdout"
        },
        {
          "output_type": "execute_result",
          "data": {
            "text/html": [
              "<div>\n",
              "<style scoped>\n",
              "    .dataframe tbody tr th:only-of-type {\n",
              "        vertical-align: middle;\n",
              "    }\n",
              "\n",
              "    .dataframe tbody tr th {\n",
              "        vertical-align: top;\n",
              "    }\n",
              "\n",
              "    .dataframe thead th {\n",
              "        text-align: right;\n",
              "    }\n",
              "</style>\n",
              "<table border=\"1\" class=\"dataframe\">\n",
              "  <thead>\n",
              "    <tr style=\"text-align: right;\">\n",
              "      <th></th>\n",
              "      <th>FirstName</th>\n",
              "      <th>LastName</th>\n",
              "      <th>CountryCode</th>\n",
              "      <th>RegionName</th>\n",
              "      <th>CommissionPct</th>\n",
              "    </tr>\n",
              "  </thead>\n",
              "  <tbody>\n",
              "    <tr>\n",
              "      <th>0</th>\n",
              "      <td>Amy</td>\n",
              "      <td>Alberts</td>\n",
              "      <td>GB</td>\n",
              "      <td>United Kingdom</td>\n",
              "      <td>0.000</td>\n",
              "    </tr>\n",
              "    <tr>\n",
              "      <th>1</th>\n",
              "      <td>David</td>\n",
              "      <td>Campbell</td>\n",
              "      <td>US</td>\n",
              "      <td>Northwest</td>\n",
              "      <td>0.012</td>\n",
              "    </tr>\n",
              "    <tr>\n",
              "      <th>2</th>\n",
              "      <td>Garrett</td>\n",
              "      <td>Vargas</td>\n",
              "      <td>CA</td>\n",
              "      <td>Canada</td>\n",
              "      <td>0.010</td>\n",
              "    </tr>\n",
              "    <tr>\n",
              "      <th>3</th>\n",
              "      <td>Jae</td>\n",
              "      <td>Pak</td>\n",
              "      <td>CA</td>\n",
              "      <td>Canada</td>\n",
              "      <td>0.020</td>\n",
              "    </tr>\n",
              "    <tr>\n",
              "      <th>4</th>\n",
              "      <td>Jillian</td>\n",
              "      <td>Carson</td>\n",
              "      <td>US</td>\n",
              "      <td>Southwest</td>\n",
              "      <td>0.015</td>\n",
              "    </tr>\n",
              "  </tbody>\n",
              "</table>\n",
              "</div>"
            ],
            "text/plain": [
              "  FirstName  LastName CountryCode      RegionName  CommissionPct\n",
              "0       Amy   Alberts          GB  United Kingdom          0.000\n",
              "1     David  Campbell          US       Northwest          0.012\n",
              "2   Garrett    Vargas          CA          Canada          0.010\n",
              "3       Jae       Pak          CA          Canada          0.020\n",
              "4   Jillian    Carson          US       Southwest          0.015"
            ]
          },
          "metadata": {
            "tags": []
          },
          "execution_count": 6
        }
      ]
    },
    {
      "cell_type": "markdown",
      "metadata": {
        "id": "SOJbq0UM8Ktk",
        "colab_type": "text"
      },
      "source": [
        "## **Better understanding our data**"
      ]
    },
    {
      "cell_type": "code",
      "metadata": {
        "id": "yyhXh1iL4IsA",
        "colab_type": "code",
        "outputId": "25c535d3-64e6-4f54-af59-8bdba1e06be6",
        "colab": {
          "base_uri": "https://localhost:8080/",
          "height": 187
        }
      },
      "source": [
        "# Understand missingness of sales data\n",
        "sales.info()"
      ],
      "execution_count": 0,
      "outputs": [
        {
          "output_type": "stream",
          "text": [
            "<class 'pandas.core.frame.DataFrame'>\n",
            "RangeIndex: 31465 entries, 0 to 31464\n",
            "Data columns (total 5 columns):\n",
            "SalesOrderID       31465 non-null int64\n",
            "TotalDue           31465 non-null float64\n",
            "NumberofItems      31465 non-null int64\n",
            "OnlineOrderFlag    31465 non-null int64\n",
            "Status             31465 non-null int64\n",
            "dtypes: float64(1), int64(4)\n",
            "memory usage: 1.2 MB\n"
          ],
          "name": "stdout"
        }
      ]
    },
    {
      "cell_type": "markdown",
      "metadata": {
        "id": "R4GH18VppRjr",
        "colab_type": "text"
      },
      "source": [
        "***Insight:*** There is no missing data or nothing out of the ordinary in this dataset so far. Let's dig deeper."
      ]
    },
    {
      "cell_type": "code",
      "metadata": {
        "id": "YtPmjfN54KsL",
        "colab_type": "code",
        "outputId": "c4dad701-512c-4ee9-f6d0-4e2bd3e39424",
        "colab": {
          "base_uri": "https://localhost:8080/",
          "height": 297
        }
      },
      "source": [
        "# Understand distribution of sales data\n",
        "sales.describe()"
      ],
      "execution_count": 0,
      "outputs": [
        {
          "output_type": "execute_result",
          "data": {
            "text/html": [
              "<div>\n",
              "<style scoped>\n",
              "    .dataframe tbody tr th:only-of-type {\n",
              "        vertical-align: middle;\n",
              "    }\n",
              "\n",
              "    .dataframe tbody tr th {\n",
              "        vertical-align: top;\n",
              "    }\n",
              "\n",
              "    .dataframe thead th {\n",
              "        text-align: right;\n",
              "    }\n",
              "</style>\n",
              "<table border=\"1\" class=\"dataframe\">\n",
              "  <thead>\n",
              "    <tr style=\"text-align: right;\">\n",
              "      <th></th>\n",
              "      <th>SalesOrderID</th>\n",
              "      <th>TotalDue</th>\n",
              "      <th>NumberofItems</th>\n",
              "      <th>OnlineOrderFlag</th>\n",
              "      <th>Status</th>\n",
              "    </tr>\n",
              "  </thead>\n",
              "  <tbody>\n",
              "    <tr>\n",
              "      <th>count</th>\n",
              "      <td>31465.000000</td>\n",
              "      <td>31465.000000</td>\n",
              "      <td>31465.000000</td>\n",
              "      <td>31465.000000</td>\n",
              "      <td>31465.0</td>\n",
              "    </tr>\n",
              "    <tr>\n",
              "      <th>mean</th>\n",
              "      <td>59391.000000</td>\n",
              "      <td>3915.995109</td>\n",
              "      <td>3.855617</td>\n",
              "      <td>0.879040</td>\n",
              "      <td>5.0</td>\n",
              "    </tr>\n",
              "    <tr>\n",
              "      <th>std</th>\n",
              "      <td>9083.307446</td>\n",
              "      <td>12515.462713</td>\n",
              "      <td>7.214877</td>\n",
              "      <td>0.326086</td>\n",
              "      <td>0.0</td>\n",
              "    </tr>\n",
              "    <tr>\n",
              "      <th>min</th>\n",
              "      <td>43659.000000</td>\n",
              "      <td>1.518300</td>\n",
              "      <td>1.000000</td>\n",
              "      <td>0.000000</td>\n",
              "      <td>5.0</td>\n",
              "    </tr>\n",
              "    <tr>\n",
              "      <th>25%</th>\n",
              "      <td>51525.000000</td>\n",
              "      <td>62.951900</td>\n",
              "      <td>1.000000</td>\n",
              "      <td>1.000000</td>\n",
              "      <td>5.0</td>\n",
              "    </tr>\n",
              "    <tr>\n",
              "      <th>50%</th>\n",
              "      <td>59391.000000</td>\n",
              "      <td>865.204000</td>\n",
              "      <td>2.000000</td>\n",
              "      <td>1.000000</td>\n",
              "      <td>5.0</td>\n",
              "    </tr>\n",
              "    <tr>\n",
              "      <th>75%</th>\n",
              "      <td>67257.000000</td>\n",
              "      <td>2615.490800</td>\n",
              "      <td>3.000000</td>\n",
              "      <td>1.000000</td>\n",
              "      <td>5.0</td>\n",
              "    </tr>\n",
              "    <tr>\n",
              "      <th>max</th>\n",
              "      <td>75123.000000</td>\n",
              "      <td>187487.825000</td>\n",
              "      <td>72.000000</td>\n",
              "      <td>1.000000</td>\n",
              "      <td>5.0</td>\n",
              "    </tr>\n",
              "  </tbody>\n",
              "</table>\n",
              "</div>"
            ],
            "text/plain": [
              "       SalesOrderID       TotalDue  NumberofItems  OnlineOrderFlag   Status\n",
              "count  31465.000000   31465.000000   31465.000000     31465.000000  31465.0\n",
              "mean   59391.000000    3915.995109       3.855617         0.879040      5.0\n",
              "std     9083.307446   12515.462713       7.214877         0.326086      0.0\n",
              "min    43659.000000       1.518300       1.000000         0.000000      5.0\n",
              "25%    51525.000000      62.951900       1.000000         1.000000      5.0\n",
              "50%    59391.000000     865.204000       2.000000         1.000000      5.0\n",
              "75%    67257.000000    2615.490800       3.000000         1.000000      5.0\n",
              "max    75123.000000  187487.825000      72.000000         1.000000      5.0"
            ]
          },
          "metadata": {
            "tags": []
          },
          "execution_count": 59
        }
      ]
    },
    {
      "cell_type": "markdown",
      "metadata": {
        "id": "pSuFj24cpa6V",
        "colab_type": "text"
      },
      "source": [
        "***Insight:*** Taking a look at the `Status` column, we notice that the minimum, maximmum, mean are the same, meaning there's no variability in that column. The `OnlineOrderFlag` column seems to be binary 1,0."
      ]
    },
    {
      "cell_type": "code",
      "metadata": {
        "id": "Zv7IKkZ74Kzr",
        "colab_type": "code",
        "outputId": "7d667a49-a73f-47d9-bcfa-c9785f44e6ff",
        "colab": {
          "base_uri": "https://localhost:8080/",
          "height": 51
        }
      },
      "source": [
        "# Make sure Status column has no other unique values\n",
        "print(\"Unique values of Status:\", sales['Status'].unique())\n",
        "print(\"Unique values of OnlineOrderFlag:\", sales['OnlineOrderFlag'].unique())"
      ],
      "execution_count": 0,
      "outputs": [
        {
          "output_type": "stream",
          "text": [
            "Unique values of Status: [5]\n",
            "Unique values of OnlineOrderFlag: [0 1]\n"
          ],
          "name": "stdout"
        }
      ]
    },
    {
      "cell_type": "code",
      "metadata": {
        "id": "4LXx9pOH4Lem",
        "colab_type": "code",
        "outputId": "dbc63275-01bc-4cfa-a237-85d27c578794",
        "colab": {
          "base_uri": "https://localhost:8080/",
          "height": 153
        }
      },
      "source": [
        "# Understand column types of dates and missingness\n",
        "dates.info()"
      ],
      "execution_count": 0,
      "outputs": [
        {
          "output_type": "stream",
          "text": [
            "<class 'pandas.core.frame.DataFrame'>\n",
            "RangeIndex: 31465 entries, 0 to 31464\n",
            "Data columns (total 3 columns):\n",
            "SalesOrderID    31465 non-null int64\n",
            "OrderDate       31465 non-null object\n",
            "ShipDate        31465 non-null object\n",
            "dtypes: int64(1), object(2)\n",
            "memory usage: 737.6+ KB\n"
          ],
          "name": "stdout"
        }
      ]
    },
    {
      "cell_type": "markdown",
      "metadata": {
        "id": "SXnHFAPkBYYx",
        "colab_type": "text"
      },
      "source": [
        "If we look at the OrderDate and ShipDate columns - they are objects not datetimes - we should probably convert them to datetime to be able to do properly manipulate date values."
      ]
    },
    {
      "cell_type": "code",
      "metadata": {
        "id": "Di0X2oT04Lcd",
        "colab_type": "code",
        "outputId": "e6e9165b-b5d0-4316-e24c-c6cddbd52a8c",
        "colab": {
          "base_uri": "https://localhost:8080/",
          "height": 323
        }
      },
      "source": [
        "# Let's understand the degree of missingness in customers dataset\n",
        "customers.info()\n",
        "# How to find missing values?\n",
        "customers.isna().sum()"
      ],
      "execution_count": 0,
      "outputs": [
        {
          "output_type": "stream",
          "text": [
            "<class 'pandas.core.frame.DataFrame'>\n",
            "RangeIndex: 31465 entries, 0 to 31464\n",
            "Data columns (total 6 columns):\n",
            "SalesOrderID         31465 non-null int64\n",
            "CustomerFirstName    17463 non-null object\n",
            "CustomerLastName     17463 non-null object\n",
            "EmployeeFirstName    3806 non-null object\n",
            "EmployeeLastName     3806 non-null object\n",
            "ChannelType          17463 non-null object\n",
            "dtypes: int64(1), object(5)\n",
            "memory usage: 1.4+ MB\n"
          ],
          "name": "stdout"
        },
        {
          "output_type": "execute_result",
          "data": {
            "text/plain": [
              "SalesOrderID             0\n",
              "CustomerFirstName    14002\n",
              "CustomerLastName     14002\n",
              "EmployeeFirstName    27659\n",
              "EmployeeLastName     27659\n",
              "ChannelType          14002\n",
              "dtype: int64"
            ]
          },
          "metadata": {
            "tags": []
          },
          "execution_count": 63
        }
      ]
    },
    {
      "cell_type": "markdown",
      "metadata": {
        "id": "9fE9EdgyByp8",
        "colab_type": "text"
      },
      "source": [
        "A note on missing data"
      ]
    },
    {
      "cell_type": "markdown",
      "metadata": {
        "id": "W23hMUxKErvf",
        "colab_type": "text"
      },
      "source": [
        "## Making our data ready for analysis"
      ]
    },
    {
      "cell_type": "code",
      "metadata": {
        "id": "6wZ7nyJj4LaW",
        "colab_type": "code",
        "outputId": "1383c3c2-3ead-41fd-b5aa-b0d95754d8a3",
        "colab": {
          "base_uri": "https://localhost:8080/",
          "height": 170
        }
      },
      "source": [
        "# Drop status column from sales\n",
        "sales.drop('Status', axis = 1, inplace = True)\n",
        "sales.info()"
      ],
      "execution_count": 0,
      "outputs": [
        {
          "output_type": "stream",
          "text": [
            "<class 'pandas.core.frame.DataFrame'>\n",
            "RangeIndex: 31465 entries, 0 to 31464\n",
            "Data columns (total 4 columns):\n",
            "SalesOrderID       31465 non-null int64\n",
            "TotalDue           31465 non-null float64\n",
            "NumberofItems      31465 non-null int64\n",
            "OnlineOrderFlag    31465 non-null int64\n",
            "dtypes: float64(1), int64(3)\n",
            "memory usage: 983.4 KB\n"
          ],
          "name": "stdout"
        }
      ]
    },
    {
      "cell_type": "code",
      "metadata": {
        "id": "3b1XNVRd4LY8",
        "colab_type": "code",
        "outputId": "b16fb408-ed90-49d1-bde0-9972ed8e4104",
        "colab": {
          "base_uri": "https://localhost:8080/",
          "height": 34
        }
      },
      "source": [
        "# Replace OnlineOrderFlag to offline and online\n",
        "sales['OnlineOrderFlag'] = sales['OnlineOrderFlag'].replace({0: \"offline\", \n",
        "                                                             1: \"online\"})\n",
        "# Make sure it is the case\n",
        "sales['OnlineOrderFlag'].unique()"
      ],
      "execution_count": 0,
      "outputs": [
        {
          "output_type": "execute_result",
          "data": {
            "text/plain": [
              "array(['offline', 'online'], dtype=object)"
            ]
          },
          "metadata": {
            "tags": []
          },
          "execution_count": 73
        }
      ]
    },
    {
      "cell_type": "code",
      "metadata": {
        "id": "SjRVVWDk4LWI",
        "colab_type": "code",
        "colab": {}
      },
      "source": [
        "# Convert data columns to datetime while keeping only Y,m,d\n",
        "dates['OrderDate']= pd.to_datetime(dates['OrderDate'], format = '%Y-%m-%d') \n",
        "dates['ShipDate']= pd.to_datetime(dates['ShipDate'], format = '%Y-%m-%d') "
      ],
      "execution_count": 0,
      "outputs": []
    },
    {
      "cell_type": "code",
      "metadata": {
        "id": "LXUpSdHX4LSq",
        "colab_type": "code",
        "outputId": "70354a12-130c-47a1-e952-3e4d4d278119",
        "colab": {
          "base_uri": "https://localhost:8080/",
          "height": 153
        }
      },
      "source": [
        "# Make sure now into datetime\n",
        "dates.info()"
      ],
      "execution_count": 0,
      "outputs": [
        {
          "output_type": "stream",
          "text": [
            "<class 'pandas.core.frame.DataFrame'>\n",
            "RangeIndex: 31465 entries, 0 to 31464\n",
            "Data columns (total 3 columns):\n",
            "SalesOrderID    31465 non-null int64\n",
            "OrderDate       31465 non-null datetime64[ns]\n",
            "ShipDate        31465 non-null datetime64[ns]\n",
            "dtypes: datetime64[ns](2), int64(1)\n",
            "memory usage: 737.6 KB\n"
          ],
          "name": "stdout"
        }
      ]
    },
    {
      "cell_type": "code",
      "metadata": {
        "id": "F1l-Ugip4LQO",
        "colab_type": "code",
        "colab": {}
      },
      "source": [
        "# Replace PersonType current with B2C\n",
        "customers['ChannelType'] = customers['ChannelType'].replace({\"IN\":\"B2C\"})"
      ],
      "execution_count": 0,
      "outputs": []
    },
    {
      "cell_type": "code",
      "metadata": {
        "id": "u1ND9J_54LNq",
        "colab_type": "code",
        "colab": {}
      },
      "source": [
        "# Impute missing values based on key business assumptions\n",
        "customers.loc[customers['CustomerFirstName'].isnull() \n",
        "              & customers['EmployeeFirstName'].isnull(), 'ChannelType'] = \"B2C\"\n",
        "\n",
        "\n",
        "customers.loc[customers['CustomerFirstName'].isnull() \n",
        "              & customers['EmployeeFirstName'].notnull(), 'ChannelType'] = \"B2B\""
      ],
      "execution_count": 0,
      "outputs": []
    },
    {
      "cell_type": "code",
      "metadata": {
        "id": "3KxSjVAU4LLF",
        "colab_type": "code",
        "outputId": "28c47407-9fcf-47ee-bfe5-820fb3952cb0",
        "colab": {
          "base_uri": "https://localhost:8080/",
          "height": 204
        }
      },
      "source": [
        "# Make sure no more missing data in persontype\n",
        "customers.info()"
      ],
      "execution_count": 0,
      "outputs": [
        {
          "output_type": "stream",
          "text": [
            "<class 'pandas.core.frame.DataFrame'>\n",
            "RangeIndex: 31465 entries, 0 to 31464\n",
            "Data columns (total 6 columns):\n",
            "SalesOrderID         31465 non-null int64\n",
            "CustomerFirstName    17463 non-null object\n",
            "CustomerLastName     17463 non-null object\n",
            "EmployeeFirstName    3806 non-null object\n",
            "EmployeeLastName     3806 non-null object\n",
            "ChannelType          31465 non-null object\n",
            "dtypes: int64(1), object(5)\n",
            "memory usage: 1.4+ MB\n"
          ],
          "name": "stdout"
        }
      ]
    },
    {
      "cell_type": "code",
      "metadata": {
        "id": "BBPuJn114LIW",
        "colab_type": "code",
        "outputId": "5de06948-e727-438f-f110-e81821919b39",
        "colab": {
          "base_uri": "https://localhost:8080/",
          "height": 204
        }
      },
      "source": [
        "# Combine first and last name in employees dataset\n",
        "employees['EmployeeFullName'] = employees['FirstName'] + ' ' + employees['LastName']\n",
        "employees.head()"
      ],
      "execution_count": 0,
      "outputs": [
        {
          "output_type": "execute_result",
          "data": {
            "text/html": [
              "<div>\n",
              "<style scoped>\n",
              "    .dataframe tbody tr th:only-of-type {\n",
              "        vertical-align: middle;\n",
              "    }\n",
              "\n",
              "    .dataframe tbody tr th {\n",
              "        vertical-align: top;\n",
              "    }\n",
              "\n",
              "    .dataframe thead th {\n",
              "        text-align: right;\n",
              "    }\n",
              "</style>\n",
              "<table border=\"1\" class=\"dataframe\">\n",
              "  <thead>\n",
              "    <tr style=\"text-align: right;\">\n",
              "      <th></th>\n",
              "      <th>FirstName</th>\n",
              "      <th>LastName</th>\n",
              "      <th>CountryCode</th>\n",
              "      <th>RegionName</th>\n",
              "      <th>CommissionPct</th>\n",
              "      <th>EmployeeFullName</th>\n",
              "    </tr>\n",
              "  </thead>\n",
              "  <tbody>\n",
              "    <tr>\n",
              "      <th>0</th>\n",
              "      <td>Amy</td>\n",
              "      <td>Alberts</td>\n",
              "      <td>GB</td>\n",
              "      <td>United Kingdom</td>\n",
              "      <td>0.000</td>\n",
              "      <td>Amy Alberts</td>\n",
              "    </tr>\n",
              "    <tr>\n",
              "      <th>1</th>\n",
              "      <td>David</td>\n",
              "      <td>Campbell</td>\n",
              "      <td>US</td>\n",
              "      <td>Northwest</td>\n",
              "      <td>0.012</td>\n",
              "      <td>David Campbell</td>\n",
              "    </tr>\n",
              "    <tr>\n",
              "      <th>2</th>\n",
              "      <td>Garrett</td>\n",
              "      <td>Vargas</td>\n",
              "      <td>CA</td>\n",
              "      <td>Canada</td>\n",
              "      <td>0.010</td>\n",
              "      <td>Garrett Vargas</td>\n",
              "    </tr>\n",
              "    <tr>\n",
              "      <th>3</th>\n",
              "      <td>Jae</td>\n",
              "      <td>Pak</td>\n",
              "      <td>CA</td>\n",
              "      <td>Canada</td>\n",
              "      <td>0.020</td>\n",
              "      <td>Jae Pak</td>\n",
              "    </tr>\n",
              "    <tr>\n",
              "      <th>4</th>\n",
              "      <td>Jillian</td>\n",
              "      <td>Carson</td>\n",
              "      <td>US</td>\n",
              "      <td>Southwest</td>\n",
              "      <td>0.015</td>\n",
              "      <td>Jillian Carson</td>\n",
              "    </tr>\n",
              "  </tbody>\n",
              "</table>\n",
              "</div>"
            ],
            "text/plain": [
              "  FirstName  LastName  ... CommissionPct EmployeeFullName\n",
              "0       Amy   Alberts  ...         0.000      Amy Alberts\n",
              "1     David  Campbell  ...         0.012   David Campbell\n",
              "2   Garrett    Vargas  ...         0.010   Garrett Vargas\n",
              "3       Jae       Pak  ...         0.020          Jae Pak\n",
              "4   Jillian    Carson  ...         0.015   Jillian Carson\n",
              "\n",
              "[5 rows x 6 columns]"
            ]
          },
          "metadata": {
            "tags": []
          },
          "execution_count": 79
        }
      ]
    },
    {
      "cell_type": "markdown",
      "metadata": {
        "id": "qW0SStg_E-nJ",
        "colab_type": "text"
      },
      "source": [
        "## Case Study:\n",
        "### How did we do in revenue over the years?"
      ]
    },
    {
      "cell_type": "code",
      "metadata": {
        "id": "GdhvX_CB4LF5",
        "colab_type": "code",
        "outputId": "2c65f9cc-968a-48a2-94e0-88f9cd24200c",
        "colab": {
          "base_uri": "https://localhost:8080/",
          "height": 204
        }
      },
      "source": [
        "# Merge data - the VLOOKUP of Excel\n",
        "sales_date = sales.merge(dates, on=\"SalesOrderID\", how = \"left\")\n",
        "sales_date.head()"
      ],
      "execution_count": 0,
      "outputs": [
        {
          "output_type": "execute_result",
          "data": {
            "text/html": [
              "<div>\n",
              "<style scoped>\n",
              "    .dataframe tbody tr th:only-of-type {\n",
              "        vertical-align: middle;\n",
              "    }\n",
              "\n",
              "    .dataframe tbody tr th {\n",
              "        vertical-align: top;\n",
              "    }\n",
              "\n",
              "    .dataframe thead th {\n",
              "        text-align: right;\n",
              "    }\n",
              "</style>\n",
              "<table border=\"1\" class=\"dataframe\">\n",
              "  <thead>\n",
              "    <tr style=\"text-align: right;\">\n",
              "      <th></th>\n",
              "      <th>SalesOrderID</th>\n",
              "      <th>TotalDue</th>\n",
              "      <th>NumberofItems</th>\n",
              "      <th>OnlineOrderFlag</th>\n",
              "      <th>OrderDate</th>\n",
              "      <th>ShipDate</th>\n",
              "    </tr>\n",
              "  </thead>\n",
              "  <tbody>\n",
              "    <tr>\n",
              "      <th>0</th>\n",
              "      <td>43659</td>\n",
              "      <td>23153.2339</td>\n",
              "      <td>12</td>\n",
              "      <td>offline</td>\n",
              "      <td>2011-05-31</td>\n",
              "      <td>2011-06-07</td>\n",
              "    </tr>\n",
              "    <tr>\n",
              "      <th>1</th>\n",
              "      <td>43660</td>\n",
              "      <td>1457.3288</td>\n",
              "      <td>2</td>\n",
              "      <td>offline</td>\n",
              "      <td>2011-05-31</td>\n",
              "      <td>2011-06-07</td>\n",
              "    </tr>\n",
              "    <tr>\n",
              "      <th>2</th>\n",
              "      <td>43661</td>\n",
              "      <td>36865.8012</td>\n",
              "      <td>15</td>\n",
              "      <td>offline</td>\n",
              "      <td>2011-05-31</td>\n",
              "      <td>2011-06-07</td>\n",
              "    </tr>\n",
              "    <tr>\n",
              "      <th>3</th>\n",
              "      <td>43662</td>\n",
              "      <td>32474.9324</td>\n",
              "      <td>22</td>\n",
              "      <td>offline</td>\n",
              "      <td>2011-05-31</td>\n",
              "      <td>2011-06-07</td>\n",
              "    </tr>\n",
              "    <tr>\n",
              "      <th>4</th>\n",
              "      <td>43663</td>\n",
              "      <td>472.3108</td>\n",
              "      <td>1</td>\n",
              "      <td>offline</td>\n",
              "      <td>2011-05-31</td>\n",
              "      <td>2011-06-07</td>\n",
              "    </tr>\n",
              "  </tbody>\n",
              "</table>\n",
              "</div>"
            ],
            "text/plain": [
              "   SalesOrderID    TotalDue  ...  OrderDate   ShipDate\n",
              "0         43659  23153.2339  ... 2011-05-31 2011-06-07\n",
              "1         43660   1457.3288  ... 2011-05-31 2011-06-07\n",
              "2         43661  36865.8012  ... 2011-05-31 2011-06-07\n",
              "3         43662  32474.9324  ... 2011-05-31 2011-06-07\n",
              "4         43663    472.3108  ... 2011-05-31 2011-06-07\n",
              "\n",
              "[5 rows x 6 columns]"
            ]
          },
          "metadata": {
            "tags": []
          },
          "execution_count": 27
        }
      ]
    },
    {
      "cell_type": "code",
      "metadata": {
        "id": "2L-Efjpx4LDN",
        "colab_type": "code",
        "colab": {}
      },
      "source": [
        "# Create column for year and month\n",
        "sales_date['Order_Year'] = sales_date['OrderDate'].dt.year\n",
        "sales_date['Order_YM'] = sales_date['OrderDate'].dt.strftime('%Y-%m')"
      ],
      "execution_count": 0,
      "outputs": []
    },
    {
      "cell_type": "code",
      "metadata": {
        "id": "NLpVQ5OY4LAp",
        "colab_type": "code",
        "outputId": "b7a9b8af-1928-40fd-e859-0dc7b964ddb5",
        "colab": {
          "base_uri": "https://localhost:8080/",
          "height": 173
        }
      },
      "source": [
        "# Extract revenue by year\n",
        "sales_by_year = sales_date.groupby('Order_Year').sum().reset_index()\n",
        "sales_by_year.head()"
      ],
      "execution_count": 0,
      "outputs": [
        {
          "output_type": "execute_result",
          "data": {
            "text/html": [
              "<div>\n",
              "<style scoped>\n",
              "    .dataframe tbody tr th:only-of-type {\n",
              "        vertical-align: middle;\n",
              "    }\n",
              "\n",
              "    .dataframe tbody tr th {\n",
              "        vertical-align: top;\n",
              "    }\n",
              "\n",
              "    .dataframe thead th {\n",
              "        text-align: right;\n",
              "    }\n",
              "</style>\n",
              "<table border=\"1\" class=\"dataframe\">\n",
              "  <thead>\n",
              "    <tr style=\"text-align: right;\">\n",
              "      <th></th>\n",
              "      <th>Order_Year</th>\n",
              "      <th>SalesOrderID</th>\n",
              "      <th>TotalDue</th>\n",
              "      <th>NumberofItems</th>\n",
              "    </tr>\n",
              "  </thead>\n",
              "  <tbody>\n",
              "    <tr>\n",
              "      <th>0</th>\n",
              "      <td>2011</td>\n",
              "      <td>71450434</td>\n",
              "      <td>1.415570e+07</td>\n",
              "      <td>5716</td>\n",
              "    </tr>\n",
              "    <tr>\n",
              "      <th>1</th>\n",
              "      <td>2012</td>\n",
              "      <td>184878045</td>\n",
              "      <td>3.767570e+07</td>\n",
              "      <td>21689</td>\n",
              "    </tr>\n",
              "    <tr>\n",
              "      <th>2</th>\n",
              "      <td>2013</td>\n",
              "      <td>798042413</td>\n",
              "      <td>4.896589e+07</td>\n",
              "      <td>56573</td>\n",
              "    </tr>\n",
              "    <tr>\n",
              "      <th>3</th>\n",
              "      <td>2014</td>\n",
              "      <td>814366923</td>\n",
              "      <td>2.241950e+07</td>\n",
              "      <td>37339</td>\n",
              "    </tr>\n",
              "  </tbody>\n",
              "</table>\n",
              "</div>"
            ],
            "text/plain": [
              "   Order_Year  SalesOrderID      TotalDue  NumberofItems\n",
              "0        2011      71450434  1.415570e+07           5716\n",
              "1        2012     184878045  3.767570e+07          21689\n",
              "2        2013     798042413  4.896589e+07          56573\n",
              "3        2014     814366923  2.241950e+07          37339"
            ]
          },
          "metadata": {
            "tags": []
          },
          "execution_count": 29
        }
      ]
    },
    {
      "cell_type": "code",
      "metadata": {
        "id": "Ns-Vc_GS4K-b",
        "colab_type": "code",
        "outputId": "12be8f1d-5341-412f-8463-b3f5be33ef23",
        "colab": {
          "base_uri": "https://localhost:8080/",
          "height": 295
        }
      },
      "source": [
        "# Visualize it\n",
        "sns.barplot(x = 'Order_Year', y = 'TotalDue', data = sales_by_year)\n",
        "plt.xlabel(\"Years\")\n",
        "plt.ylabel(\"Revenue\")\n",
        "plt.title(\"Revenue over the years\")\n",
        "plt.show()"
      ],
      "execution_count": 0,
      "outputs": [
        {
          "output_type": "display_data",
          "data": {
            "image/png": "[encoded data removed]",
            "text/plain": [
              "<Figure size 432x288 with 1 Axes>"
            ]
          },
          "metadata": {
            "tags": []
          }
        }
      ]
    },
    {
      "cell_type": "code",
      "metadata": {
        "id": "pTdxEPc94K82",
        "colab_type": "code",
        "outputId": "d410be30-2f38-452c-daf5-a7deb1a31f39",
        "colab": {
          "base_uri": "https://localhost:8080/",
          "height": 204
        }
      },
      "source": [
        "# Is there seasonality?\n",
        "sales_by_year_month = sales_date.groupby('Order_YM').sum().reset_index()\n",
        "sales_by_year_month.head()"
      ],
      "execution_count": 0,
      "outputs": [
        {
          "output_type": "execute_result",
          "data": {
            "text/html": [
              "<div>\n",
              "<style scoped>\n",
              "    .dataframe tbody tr th:only-of-type {\n",
              "        vertical-align: middle;\n",
              "    }\n",
              "\n",
              "    .dataframe tbody tr th {\n",
              "        vertical-align: top;\n",
              "    }\n",
              "\n",
              "    .dataframe thead th {\n",
              "        text-align: right;\n",
              "    }\n",
              "</style>\n",
              "<table border=\"1\" class=\"dataframe\">\n",
              "  <thead>\n",
              "    <tr style=\"text-align: right;\">\n",
              "      <th></th>\n",
              "      <th>Order_YM</th>\n",
              "      <th>SalesOrderID</th>\n",
              "      <th>TotalDue</th>\n",
              "      <th>NumberofItems</th>\n",
              "      <th>Order_Year</th>\n",
              "    </tr>\n",
              "  </thead>\n",
              "  <tbody>\n",
              "    <tr>\n",
              "      <th>0</th>\n",
              "      <td>2011-05</td>\n",
              "      <td>1878240</td>\n",
              "      <td>5.670209e+05</td>\n",
              "      <td>357</td>\n",
              "      <td>86473</td>\n",
              "    </tr>\n",
              "    <tr>\n",
              "      <th>1</th>\n",
              "      <td>2011-06</td>\n",
              "      <td>6171852</td>\n",
              "      <td>5.070965e+05</td>\n",
              "      <td>141</td>\n",
              "      <td>283551</td>\n",
              "    </tr>\n",
              "    <tr>\n",
              "      <th>2</th>\n",
              "      <td>2011-07</td>\n",
              "      <td>10154298</td>\n",
              "      <td>2.292183e+06</td>\n",
              "      <td>941</td>\n",
              "      <td>464541</td>\n",
              "    </tr>\n",
              "    <tr>\n",
              "      <th>3</th>\n",
              "      <td>2011-08</td>\n",
              "      <td>11049625</td>\n",
              "      <td>2.800576e+06</td>\n",
              "      <td>1242</td>\n",
              "      <td>502750</td>\n",
              "    </tr>\n",
              "    <tr>\n",
              "      <th>4</th>\n",
              "      <td>2011-09</td>\n",
              "      <td>6971114</td>\n",
              "      <td>5.547916e+05</td>\n",
              "      <td>157</td>\n",
              "      <td>315727</td>\n",
              "    </tr>\n",
              "  </tbody>\n",
              "</table>\n",
              "</div>"
            ],
            "text/plain": [
              "  Order_YM  SalesOrderID      TotalDue  NumberofItems  Order_Year\n",
              "0  2011-05       1878240  5.670209e+05            357       86473\n",
              "1  2011-06       6171852  5.070965e+05            141      283551\n",
              "2  2011-07      10154298  2.292183e+06            941      464541\n",
              "3  2011-08      11049625  2.800576e+06           1242      502750\n",
              "4  2011-09       6971114  5.547916e+05            157      315727"
            ]
          },
          "metadata": {
            "tags": []
          },
          "execution_count": 31
        }
      ]
    },
    {
      "cell_type": "code",
      "metadata": {
        "id": "awDjxQx14K7J",
        "colab_type": "code",
        "outputId": "37734123-d89a-43ba-943a-4a361b0f3e22",
        "colab": {
          "base_uri": "https://localhost:8080/",
          "height": 431
        }
      },
      "source": [
        "# Visualize it\n",
        "## Line chart instead of barplot\n",
        "plt.figure(figsize=(18, 6))\n",
        "sns.lineplot(x = 'Order_YM', y = 'TotalDue', data = sales_by_year_month)\n",
        "plt.xlabel(\"Years\")\n",
        "plt.xticks(rotation=45)\n",
        "plt.ylabel(\"Revenue\")\n",
        "plt.title(\"Revenue over the years\")\n",
        "plt.show()"
      ],
      "execution_count": 0,
      "outputs": [
        {
          "output_type": "display_data",
          "data": {
            "image/png": "[encoded data removed]",
            "text/plain": [
              "<Figure size 1296x432 with 1 Axes>"
            ]
          },
          "metadata": {
            "tags": []
          }
        }
      ]
    },
    {
      "cell_type": "markdown",
      "metadata": {
        "id": "uIsHEbLlFGtn",
        "colab_type": "text"
      },
      "source": [
        "## How are our revenue divided by channel type?"
      ]
    },
    {
      "cell_type": "code",
      "metadata": {
        "id": "V2_olMaI4K5Q",
        "colab_type": "code",
        "outputId": "8b06970d-954c-4692-886c-05b3439034b9",
        "colab": {
          "base_uri": "https://localhost:8080/",
          "height": 204
        }
      },
      "source": [
        "# Merge sales and customer data\n",
        "sales_customers = sales.merge(customers, on = \"SalesOrderID\", how = \"left\")\n",
        "sales_customers.head()"
      ],
      "execution_count": 0,
      "outputs": [
        {
          "output_type": "execute_result",
          "data": {
            "text/html": [
              "<div>\n",
              "<style scoped>\n",
              "    .dataframe tbody tr th:only-of-type {\n",
              "        vertical-align: middle;\n",
              "    }\n",
              "\n",
              "    .dataframe tbody tr th {\n",
              "        vertical-align: top;\n",
              "    }\n",
              "\n",
              "    .dataframe thead th {\n",
              "        text-align: right;\n",
              "    }\n",
              "</style>\n",
              "<table border=\"1\" class=\"dataframe\">\n",
              "  <thead>\n",
              "    <tr style=\"text-align: right;\">\n",
              "      <th></th>\n",
              "      <th>SalesOrderID</th>\n",
              "      <th>TotalDue</th>\n",
              "      <th>NumberofItems</th>\n",
              "      <th>OnlineOrderFlag</th>\n",
              "      <th>CustomerFirstName</th>\n",
              "      <th>CustomerLastName</th>\n",
              "      <th>EmployeeFirstName</th>\n",
              "      <th>EmployeeLastName</th>\n",
              "      <th>ChannelType</th>\n",
              "    </tr>\n",
              "  </thead>\n",
              "  <tbody>\n",
              "    <tr>\n",
              "      <th>0</th>\n",
              "      <td>43659</td>\n",
              "      <td>23153.2339</td>\n",
              "      <td>12</td>\n",
              "      <td>offline</td>\n",
              "      <td>NaN</td>\n",
              "      <td>NaN</td>\n",
              "      <td>Tsvi</td>\n",
              "      <td>Reiter</td>\n",
              "      <td>B2B</td>\n",
              "    </tr>\n",
              "    <tr>\n",
              "      <th>1</th>\n",
              "      <td>43660</td>\n",
              "      <td>1457.3288</td>\n",
              "      <td>2</td>\n",
              "      <td>offline</td>\n",
              "      <td>NaN</td>\n",
              "      <td>NaN</td>\n",
              "      <td>Tsvi</td>\n",
              "      <td>Reiter</td>\n",
              "      <td>B2B</td>\n",
              "    </tr>\n",
              "    <tr>\n",
              "      <th>2</th>\n",
              "      <td>43661</td>\n",
              "      <td>36865.8012</td>\n",
              "      <td>15</td>\n",
              "      <td>offline</td>\n",
              "      <td>NaN</td>\n",
              "      <td>NaN</td>\n",
              "      <td>José</td>\n",
              "      <td>Saraiva</td>\n",
              "      <td>B2B</td>\n",
              "    </tr>\n",
              "    <tr>\n",
              "      <th>3</th>\n",
              "      <td>43662</td>\n",
              "      <td>32474.9324</td>\n",
              "      <td>22</td>\n",
              "      <td>offline</td>\n",
              "      <td>NaN</td>\n",
              "      <td>NaN</td>\n",
              "      <td>José</td>\n",
              "      <td>Saraiva</td>\n",
              "      <td>B2B</td>\n",
              "    </tr>\n",
              "    <tr>\n",
              "      <th>4</th>\n",
              "      <td>43663</td>\n",
              "      <td>472.3108</td>\n",
              "      <td>1</td>\n",
              "      <td>offline</td>\n",
              "      <td>NaN</td>\n",
              "      <td>NaN</td>\n",
              "      <td>Linda</td>\n",
              "      <td>Mitchell</td>\n",
              "      <td>B2B</td>\n",
              "    </tr>\n",
              "  </tbody>\n",
              "</table>\n",
              "</div>"
            ],
            "text/plain": [
              "   SalesOrderID    TotalDue  ...  EmployeeLastName ChannelType\n",
              "0         43659  23153.2339  ...            Reiter         B2B\n",
              "1         43660   1457.3288  ...            Reiter         B2B\n",
              "2         43661  36865.8012  ...           Saraiva         B2B\n",
              "3         43662  32474.9324  ...           Saraiva         B2B\n",
              "4         43663    472.3108  ...          Mitchell         B2B\n",
              "\n",
              "[5 rows x 9 columns]"
            ]
          },
          "metadata": {
            "tags": []
          },
          "execution_count": 80
        }
      ]
    },
    {
      "cell_type": "code",
      "metadata": {
        "id": "rEDz2ZKo4KyG",
        "colab_type": "code",
        "outputId": "dfb293d3-2d9a-4cd7-9955-4034d4bc960a",
        "colab": {
          "base_uri": "https://localhost:8080/",
          "height": 111
        }
      },
      "source": [
        "# Identify revenue and amount sold by channel\n",
        "sales_by_channel = sales_customers.groupby('ChannelType').sum().reset_index()\n",
        "sales_by_channel.head()"
      ],
      "execution_count": 0,
      "outputs": [
        {
          "output_type": "execute_result",
          "data": {
            "text/html": [
              "<div>\n",
              "<style scoped>\n",
              "    .dataframe tbody tr th:only-of-type {\n",
              "        vertical-align: middle;\n",
              "    }\n",
              "\n",
              "    .dataframe tbody tr th {\n",
              "        vertical-align: top;\n",
              "    }\n",
              "\n",
              "    .dataframe thead th {\n",
              "        text-align: right;\n",
              "    }\n",
              "</style>\n",
              "<table border=\"1\" class=\"dataframe\">\n",
              "  <thead>\n",
              "    <tr style=\"text-align: right;\">\n",
              "      <th></th>\n",
              "      <th>ChannelType</th>\n",
              "      <th>SalesOrderID</th>\n",
              "      <th>TotalDue</th>\n",
              "      <th>NumberofItems</th>\n",
              "    </tr>\n",
              "  </thead>\n",
              "  <tbody>\n",
              "    <tr>\n",
              "      <th>0</th>\n",
              "      <td>B2B</td>\n",
              "      <td>204462343</td>\n",
              "      <td>9.077545e+07</td>\n",
              "      <td>60919</td>\n",
              "    </tr>\n",
              "    <tr>\n",
              "      <th>1</th>\n",
              "      <td>B2C</td>\n",
              "      <td>1664275472</td>\n",
              "      <td>3.244134e+07</td>\n",
              "      <td>60398</td>\n",
              "    </tr>\n",
              "  </tbody>\n",
              "</table>\n",
              "</div>"
            ],
            "text/plain": [
              "  ChannelType  SalesOrderID      TotalDue  NumberofItems\n",
              "0         B2B     204462343  9.077545e+07          60919\n",
              "1         B2C    1664275472  3.244134e+07          60398"
            ]
          },
          "metadata": {
            "tags": []
          },
          "execution_count": 81
        }
      ]
    },
    {
      "cell_type": "code",
      "metadata": {
        "id": "F01U4q9z4jff",
        "colab_type": "code",
        "outputId": "b20b2cfd-71ac-4b39-98c0-13bb2cc28de9",
        "colab": {
          "base_uri": "https://localhost:8080/",
          "height": 295
        }
      },
      "source": [
        "# Visualize\n",
        "sns.barplot(x = 'ChannelType', y = 'TotalDue', data = sales_by_channel)\n",
        "plt.xlabel(\"Channel Type\")\n",
        "plt.ylabel(\"Revenue\")\n",
        "plt.title(\"Revenue by Channel Type\")\n",
        "plt.show()"
      ],
      "execution_count": 0,
      "outputs": [
        {
          "output_type": "display_data",
          "data": {
            "image/png": "[encoded data removed]",
            "text/plain": [
              "<Figure size 432x288 with 1 Axes>"
            ]
          },
          "metadata": {
            "tags": []
          }
        }
      ]
    },
    {
      "cell_type": "markdown",
      "metadata": {
        "id": "eqyj1a9tFVR7",
        "colab_type": "text"
      },
      "source": [
        "Is there a temporal dimension to this?"
      ]
    },
    {
      "cell_type": "code",
      "metadata": {
        "id": "Kql3u8DH4jc4",
        "colab_type": "code",
        "outputId": "f7d1e799-ecb5-422b-c5cb-336b16e83f41",
        "colab": {
          "base_uri": "https://localhost:8080/",
          "height": 309
        }
      },
      "source": [
        "# Merge sales and customer data\n",
        "sales_customers_date = sales_date.merge(customers, on = \"SalesOrderID\", how = \"left\")\n",
        "sales_customers_date.head()"
      ],
      "execution_count": 0,
      "outputs": [
        {
          "output_type": "execute_result",
          "data": {
            "text/html": [
              "<div>\n",
              "<style scoped>\n",
              "    .dataframe tbody tr th:only-of-type {\n",
              "        vertical-align: middle;\n",
              "    }\n",
              "\n",
              "    .dataframe tbody tr th {\n",
              "        vertical-align: top;\n",
              "    }\n",
              "\n",
              "    .dataframe thead th {\n",
              "        text-align: right;\n",
              "    }\n",
              "</style>\n",
              "<table border=\"1\" class=\"dataframe\">\n",
              "  <thead>\n",
              "    <tr style=\"text-align: right;\">\n",
              "      <th></th>\n",
              "      <th>SalesOrderID</th>\n",
              "      <th>TotalDue</th>\n",
              "      <th>NumberofItems</th>\n",
              "      <th>OnlineOrderFlag</th>\n",
              "      <th>OrderDate</th>\n",
              "      <th>ShipDate</th>\n",
              "      <th>Order_Year</th>\n",
              "      <th>Order_YM</th>\n",
              "      <th>CustomerFirstName</th>\n",
              "      <th>CustomerLastName</th>\n",
              "      <th>EmployeeFirstName</th>\n",
              "      <th>EmployeeLastName</th>\n",
              "      <th>ChannelType</th>\n",
              "    </tr>\n",
              "  </thead>\n",
              "  <tbody>\n",
              "    <tr>\n",
              "      <th>0</th>\n",
              "      <td>43659</td>\n",
              "      <td>23153.2339</td>\n",
              "      <td>12</td>\n",
              "      <td>offline</td>\n",
              "      <td>2011-05-31</td>\n",
              "      <td>2011-06-07</td>\n",
              "      <td>2011</td>\n",
              "      <td>2011-05</td>\n",
              "      <td>NaN</td>\n",
              "      <td>NaN</td>\n",
              "      <td>Tsvi</td>\n",
              "      <td>Reiter</td>\n",
              "      <td>B2B</td>\n",
              "    </tr>\n",
              "    <tr>\n",
              "      <th>1</th>\n",
              "      <td>43660</td>\n",
              "      <td>1457.3288</td>\n",
              "      <td>2</td>\n",
              "      <td>offline</td>\n",
              "      <td>2011-05-31</td>\n",
              "      <td>2011-06-07</td>\n",
              "      <td>2011</td>\n",
              "      <td>2011-05</td>\n",
              "      <td>NaN</td>\n",
              "      <td>NaN</td>\n",
              "      <td>Tsvi</td>\n",
              "      <td>Reiter</td>\n",
              "      <td>B2B</td>\n",
              "    </tr>\n",
              "    <tr>\n",
              "      <th>2</th>\n",
              "      <td>43661</td>\n",
              "      <td>36865.8012</td>\n",
              "      <td>15</td>\n",
              "      <td>offline</td>\n",
              "      <td>2011-05-31</td>\n",
              "      <td>2011-06-07</td>\n",
              "      <td>2011</td>\n",
              "      <td>2011-05</td>\n",
              "      <td>NaN</td>\n",
              "      <td>NaN</td>\n",
              "      <td>José</td>\n",
              "      <td>Saraiva</td>\n",
              "      <td>B2B</td>\n",
              "    </tr>\n",
              "    <tr>\n",
              "      <th>3</th>\n",
              "      <td>43662</td>\n",
              "      <td>32474.9324</td>\n",
              "      <td>22</td>\n",
              "      <td>offline</td>\n",
              "      <td>2011-05-31</td>\n",
              "      <td>2011-06-07</td>\n",
              "      <td>2011</td>\n",
              "      <td>2011-05</td>\n",
              "      <td>NaN</td>\n",
              "      <td>NaN</td>\n",
              "      <td>José</td>\n",
              "      <td>Saraiva</td>\n",
              "      <td>B2B</td>\n",
              "    </tr>\n",
              "    <tr>\n",
              "      <th>4</th>\n",
              "      <td>43663</td>\n",
              "      <td>472.3108</td>\n",
              "      <td>1</td>\n",
              "      <td>offline</td>\n",
              "      <td>2011-05-31</td>\n",
              "      <td>2011-06-07</td>\n",
              "      <td>2011</td>\n",
              "      <td>2011-05</td>\n",
              "      <td>NaN</td>\n",
              "      <td>NaN</td>\n",
              "      <td>Linda</td>\n",
              "      <td>Mitchell</td>\n",
              "      <td>B2B</td>\n",
              "    </tr>\n",
              "  </tbody>\n",
              "</table>\n",
              "</div>"
            ],
            "text/plain": [
              "   SalesOrderID    TotalDue  ...  EmployeeLastName ChannelType\n",
              "0         43659  23153.2339  ...            Reiter         B2B\n",
              "1         43660   1457.3288  ...            Reiter         B2B\n",
              "2         43661  36865.8012  ...           Saraiva         B2B\n",
              "3         43662  32474.9324  ...           Saraiva         B2B\n",
              "4         43663    472.3108  ...          Mitchell         B2B\n",
              "\n",
              "[5 rows x 13 columns]"
            ]
          },
          "metadata": {
            "tags": []
          },
          "execution_count": 84
        }
      ]
    },
    {
      "cell_type": "code",
      "metadata": {
        "id": "Cw4oqqKe4jaz",
        "colab_type": "code",
        "outputId": "411db83f-9f27-4e3f-b730-6403cb18dae7",
        "colab": {
          "base_uri": "https://localhost:8080/",
          "height": 204
        }
      },
      "source": [
        "# Group by year by channel type\n",
        "sales_by_channel_date = sales_customers_date.groupby(['Order_Year', 'ChannelType']).sum().reset_index()\n",
        "sales_by_channel_date.head()"
      ],
      "execution_count": 0,
      "outputs": [
        {
          "output_type": "execute_result",
          "data": {
            "text/html": [
              "<div>\n",
              "<style scoped>\n",
              "    .dataframe tbody tr th:only-of-type {\n",
              "        vertical-align: middle;\n",
              "    }\n",
              "\n",
              "    .dataframe tbody tr th {\n",
              "        vertical-align: top;\n",
              "    }\n",
              "\n",
              "    .dataframe thead th {\n",
              "        text-align: right;\n",
              "    }\n",
              "</style>\n",
              "<table border=\"1\" class=\"dataframe\">\n",
              "  <thead>\n",
              "    <tr style=\"text-align: right;\">\n",
              "      <th></th>\n",
              "      <th>Order_Year</th>\n",
              "      <th>ChannelType</th>\n",
              "      <th>SalesOrderID</th>\n",
              "      <th>TotalDue</th>\n",
              "      <th>NumberofItems</th>\n",
              "    </tr>\n",
              "  </thead>\n",
              "  <tbody>\n",
              "    <tr>\n",
              "      <th>0</th>\n",
              "      <td>2011</td>\n",
              "      <td>B2B</td>\n",
              "      <td>17999103</td>\n",
              "      <td>9.886952e+06</td>\n",
              "      <td>4515</td>\n",
              "    </tr>\n",
              "    <tr>\n",
              "      <th>1</th>\n",
              "      <td>2011</td>\n",
              "      <td>B2C</td>\n",
              "      <td>53451331</td>\n",
              "      <td>4.268748e+06</td>\n",
              "      <td>1201</td>\n",
              "    </tr>\n",
              "    <tr>\n",
              "      <th>2</th>\n",
              "      <td>2012</td>\n",
              "      <td>B2B</td>\n",
              "      <td>55440422</td>\n",
              "      <td>3.061409e+07</td>\n",
              "      <td>18946</td>\n",
              "    </tr>\n",
              "    <tr>\n",
              "      <th>3</th>\n",
              "      <td>2012</td>\n",
              "      <td>B2C</td>\n",
              "      <td>129437623</td>\n",
              "      <td>7.061613e+06</td>\n",
              "      <td>2743</td>\n",
              "    </tr>\n",
              "    <tr>\n",
              "      <th>4</th>\n",
              "      <td>2013</td>\n",
              "      <td>B2B</td>\n",
              "      <td>87767978</td>\n",
              "      <td>3.710689e+07</td>\n",
              "      <td>27614</td>\n",
              "    </tr>\n",
              "  </tbody>\n",
              "</table>\n",
              "</div>"
            ],
            "text/plain": [
              "   Order_Year ChannelType  SalesOrderID      TotalDue  NumberofItems\n",
              "0        2011         B2B      17999103  9.886952e+06           4515\n",
              "1        2011         B2C      53451331  4.268748e+06           1201\n",
              "2        2012         B2B      55440422  3.061409e+07          18946\n",
              "3        2012         B2C     129437623  7.061613e+06           2743\n",
              "4        2013         B2B      87767978  3.710689e+07          27614"
            ]
          },
          "metadata": {
            "tags": []
          },
          "execution_count": 85
        }
      ]
    },
    {
      "cell_type": "code",
      "metadata": {
        "id": "9cWRLNkV4jYm",
        "colab_type": "code",
        "outputId": "550ce87f-3c71-4f75-8ee8-4ceb0b23ac44",
        "colab": {
          "base_uri": "https://localhost:8080/",
          "height": 295
        }
      },
      "source": [
        "# Visualize\n",
        "sns.barplot(x = 'Order_Year', y = 'TotalDue', hue = \"ChannelType\",\n",
        "            data = sales_by_channel_date, ci = None)\n",
        "plt.xlabel(\"Channel Type\")\n",
        "plt.ylabel(\"Revenue\")\n",
        "plt.title(\"Revenue by Channel Type\")\n",
        "sns.despine()\n",
        "plt.show()"
      ],
      "execution_count": 0,
      "outputs": [
        {
          "output_type": "display_data",
          "data": {
            "image/png": "[encoded data removed]",
            "text/plain": [
              "<Figure size 432x288 with 1 Axes>"
            ]
          },
          "metadata": {
            "tags": []
          }
        }
      ]
    },
    {
      "cell_type": "code",
      "metadata": {
        "id": "GxhAjiau4jVs",
        "colab_type": "code",
        "outputId": "438a936d-3964-452e-ce12-12d553fd65cf",
        "colab": {
          "base_uri": "https://localhost:8080/",
          "height": 297
        }
      },
      "source": [
        "# Why is it that B2B > B2C?\n",
        "sales_customers_date.groupby(['Order_Year', 'ChannelType']).mean().reset_index()"
      ],
      "execution_count": 0,
      "outputs": [
        {
          "output_type": "execute_result",
          "data": {
            "text/html": [
              "<div>\n",
              "<style scoped>\n",
              "    .dataframe tbody tr th:only-of-type {\n",
              "        vertical-align: middle;\n",
              "    }\n",
              "\n",
              "    .dataframe tbody tr th {\n",
              "        vertical-align: top;\n",
              "    }\n",
              "\n",
              "    .dataframe thead th {\n",
              "        text-align: right;\n",
              "    }\n",
              "</style>\n",
              "<table border=\"1\" class=\"dataframe\">\n",
              "  <thead>\n",
              "    <tr style=\"text-align: right;\">\n",
              "      <th></th>\n",
              "      <th>Order_Year</th>\n",
              "      <th>ChannelType</th>\n",
              "      <th>SalesOrderID</th>\n",
              "      <th>TotalDue</th>\n",
              "      <th>NumberofItems</th>\n",
              "    </tr>\n",
              "  </thead>\n",
              "  <tbody>\n",
              "    <tr>\n",
              "      <th>0</th>\n",
              "      <td>2011</td>\n",
              "      <td>B2B</td>\n",
              "      <td>44332.766010</td>\n",
              "      <td>24352.097596</td>\n",
              "      <td>11.120690</td>\n",
              "    </tr>\n",
              "    <tr>\n",
              "      <th>1</th>\n",
              "      <td>2011</td>\n",
              "      <td>B2C</td>\n",
              "      <td>44505.687760</td>\n",
              "      <td>3554.327978</td>\n",
              "      <td>1.000000</td>\n",
              "    </tr>\n",
              "    <tr>\n",
              "      <th>2</th>\n",
              "      <td>2012</td>\n",
              "      <td>B2B</td>\n",
              "      <td>47304.114334</td>\n",
              "      <td>26121.234848</td>\n",
              "      <td>16.165529</td>\n",
              "    </tr>\n",
              "    <tr>\n",
              "      <th>3</th>\n",
              "      <td>2012</td>\n",
              "      <td>B2C</td>\n",
              "      <td>47188.342326</td>\n",
              "      <td>2574.412348</td>\n",
              "      <td>1.000000</td>\n",
              "    </tr>\n",
              "    <tr>\n",
              "      <th>4</th>\n",
              "      <td>2013</td>\n",
              "      <td>B2B</td>\n",
              "      <td>54923.640801</td>\n",
              "      <td>23220.830371</td>\n",
              "      <td>17.280350</td>\n",
              "    </tr>\n",
              "    <tr>\n",
              "      <th>5</th>\n",
              "      <td>2013</td>\n",
              "      <td>B2C</td>\n",
              "      <td>56442.660124</td>\n",
              "      <td>942.387240</td>\n",
              "      <td>2.301256</td>\n",
              "    </tr>\n",
              "    <tr>\n",
              "      <th>6</th>\n",
              "      <td>2014</td>\n",
              "      <td>B2B</td>\n",
              "      <td>68658.476190</td>\n",
              "      <td>20900.827293</td>\n",
              "      <td>15.625397</td>\n",
              "    </tr>\n",
              "    <tr>\n",
              "      <th>7</th>\n",
              "      <td>2014</td>\n",
              "      <td>B2C</td>\n",
              "      <td>69276.083281</td>\n",
              "      <td>831.190111</td>\n",
              "      <td>2.470128</td>\n",
              "    </tr>\n",
              "  </tbody>\n",
              "</table>\n",
              "</div>"
            ],
            "text/plain": [
              "   Order_Year ChannelType  SalesOrderID      TotalDue  NumberofItems\n",
              "0        2011         B2B  44332.766010  24352.097596      11.120690\n",
              "1        2011         B2C  44505.687760   3554.327978       1.000000\n",
              "2        2012         B2B  47304.114334  26121.234848      16.165529\n",
              "3        2012         B2C  47188.342326   2574.412348       1.000000\n",
              "4        2013         B2B  54923.640801  23220.830371      17.280350\n",
              "5        2013         B2C  56442.660124    942.387240       2.301256\n",
              "6        2014         B2B  68658.476190  20900.827293      15.625397\n",
              "7        2014         B2C  69276.083281    831.190111       2.470128"
            ]
          },
          "metadata": {
            "tags": []
          },
          "execution_count": 87
        }
      ]
    },
    {
      "cell_type": "code",
      "metadata": {
        "id": "s6TibOwk4jSK",
        "colab_type": "code",
        "outputId": "db86772e-0b5a-468e-fabb-f63dfc424268",
        "colab": {
          "base_uri": "https://localhost:8080/",
          "height": 309
        }
      },
      "source": [
        "# Create new feature containing full names - MAKE SURE TO CREATE IT EARLIER\n",
        "sales_customers_date['EmployeeFullName'] = sales_customers_date['EmployeeFirstName'] + ' ' + sales_customers_date['EmployeeLastName']\n",
        "sales_customers_date.head()"
      ],
      "execution_count": 0,
      "outputs": [
        {
          "output_type": "execute_result",
          "data": {
            "text/html": [
              "<div>\n",
              "<style scoped>\n",
              "    .dataframe tbody tr th:only-of-type {\n",
              "        vertical-align: middle;\n",
              "    }\n",
              "\n",
              "    .dataframe tbody tr th {\n",
              "        vertical-align: top;\n",
              "    }\n",
              "\n",
              "    .dataframe thead th {\n",
              "        text-align: right;\n",
              "    }\n",
              "</style>\n",
              "<table border=\"1\" class=\"dataframe\">\n",
              "  <thead>\n",
              "    <tr style=\"text-align: right;\">\n",
              "      <th></th>\n",
              "      <th>SalesOrderID</th>\n",
              "      <th>TotalDue</th>\n",
              "      <th>NumberofItems</th>\n",
              "      <th>OnlineOrderFlag</th>\n",
              "      <th>OrderDate</th>\n",
              "      <th>ShipDate</th>\n",
              "      <th>Order_Year</th>\n",
              "      <th>Order_YM</th>\n",
              "      <th>CustomerFirstName</th>\n",
              "      <th>CustomerLastName</th>\n",
              "      <th>EmployeeFirstName</th>\n",
              "      <th>EmployeeLastName</th>\n",
              "      <th>ChannelType</th>\n",
              "      <th>EmployeeFullName</th>\n",
              "    </tr>\n",
              "  </thead>\n",
              "  <tbody>\n",
              "    <tr>\n",
              "      <th>0</th>\n",
              "      <td>43659</td>\n",
              "      <td>23153.2339</td>\n",
              "      <td>12</td>\n",
              "      <td>offline</td>\n",
              "      <td>2011-05-31</td>\n",
              "      <td>2011-06-07</td>\n",
              "      <td>2011</td>\n",
              "      <td>2011-05</td>\n",
              "      <td>NaN</td>\n",
              "      <td>NaN</td>\n",
              "      <td>Tsvi</td>\n",
              "      <td>Reiter</td>\n",
              "      <td>B2B</td>\n",
              "      <td>Tsvi Reiter</td>\n",
              "    </tr>\n",
              "    <tr>\n",
              "      <th>1</th>\n",
              "      <td>43660</td>\n",
              "      <td>1457.3288</td>\n",
              "      <td>2</td>\n",
              "      <td>offline</td>\n",
              "      <td>2011-05-31</td>\n",
              "      <td>2011-06-07</td>\n",
              "      <td>2011</td>\n",
              "      <td>2011-05</td>\n",
              "      <td>NaN</td>\n",
              "      <td>NaN</td>\n",
              "      <td>Tsvi</td>\n",
              "      <td>Reiter</td>\n",
              "      <td>B2B</td>\n",
              "      <td>Tsvi Reiter</td>\n",
              "    </tr>\n",
              "    <tr>\n",
              "      <th>2</th>\n",
              "      <td>43661</td>\n",
              "      <td>36865.8012</td>\n",
              "      <td>15</td>\n",
              "      <td>offline</td>\n",
              "      <td>2011-05-31</td>\n",
              "      <td>2011-06-07</td>\n",
              "      <td>2011</td>\n",
              "      <td>2011-05</td>\n",
              "      <td>NaN</td>\n",
              "      <td>NaN</td>\n",
              "      <td>José</td>\n",
              "      <td>Saraiva</td>\n",
              "      <td>B2B</td>\n",
              "      <td>José Saraiva</td>\n",
              "    </tr>\n",
              "    <tr>\n",
              "      <th>3</th>\n",
              "      <td>43662</td>\n",
              "      <td>32474.9324</td>\n",
              "      <td>22</td>\n",
              "      <td>offline</td>\n",
              "      <td>2011-05-31</td>\n",
              "      <td>2011-06-07</td>\n",
              "      <td>2011</td>\n",
              "      <td>2011-05</td>\n",
              "      <td>NaN</td>\n",
              "      <td>NaN</td>\n",
              "      <td>José</td>\n",
              "      <td>Saraiva</td>\n",
              "      <td>B2B</td>\n",
              "      <td>José Saraiva</td>\n",
              "    </tr>\n",
              "    <tr>\n",
              "      <th>4</th>\n",
              "      <td>43663</td>\n",
              "      <td>472.3108</td>\n",
              "      <td>1</td>\n",
              "      <td>offline</td>\n",
              "      <td>2011-05-31</td>\n",
              "      <td>2011-06-07</td>\n",
              "      <td>2011</td>\n",
              "      <td>2011-05</td>\n",
              "      <td>NaN</td>\n",
              "      <td>NaN</td>\n",
              "      <td>Linda</td>\n",
              "      <td>Mitchell</td>\n",
              "      <td>B2B</td>\n",
              "      <td>Linda Mitchell</td>\n",
              "    </tr>\n",
              "  </tbody>\n",
              "</table>\n",
              "</div>"
            ],
            "text/plain": [
              "   SalesOrderID    TotalDue  ...  ChannelType EmployeeFullName\n",
              "0         43659  23153.2339  ...          B2B      Tsvi Reiter\n",
              "1         43660   1457.3288  ...          B2B      Tsvi Reiter\n",
              "2         43661  36865.8012  ...          B2B     José Saraiva\n",
              "3         43662  32474.9324  ...          B2B     José Saraiva\n",
              "4         43663    472.3108  ...          B2B   Linda Mitchell\n",
              "\n",
              "[5 rows x 14 columns]"
            ]
          },
          "metadata": {
            "tags": []
          },
          "execution_count": 89
        }
      ]
    },
    {
      "cell_type": "code",
      "metadata": {
        "id": "liJNxutK4rVG",
        "colab_type": "code",
        "outputId": "51105aa5-aec0-4fe3-e316-71d6fbd7fe11",
        "colab": {
          "base_uri": "https://localhost:8080/",
          "height": 204
        }
      },
      "source": [
        "# Group by employee performancee\n",
        "sales_employees = sales_customers_date.groupby('EmployeeFullName').sum().reset_index()\n",
        "sales_employees.head()"
      ],
      "execution_count": 0,
      "outputs": [
        {
          "output_type": "execute_result",
          "data": {
            "text/html": [
              "<div>\n",
              "<style scoped>\n",
              "    .dataframe tbody tr th:only-of-type {\n",
              "        vertical-align: middle;\n",
              "    }\n",
              "\n",
              "    .dataframe tbody tr th {\n",
              "        vertical-align: top;\n",
              "    }\n",
              "\n",
              "    .dataframe thead th {\n",
              "        text-align: right;\n",
              "    }\n",
              "</style>\n",
              "<table border=\"1\" class=\"dataframe\">\n",
              "  <thead>\n",
              "    <tr style=\"text-align: right;\">\n",
              "      <th></th>\n",
              "      <th>EmployeeFullName</th>\n",
              "      <th>SalesOrderID</th>\n",
              "      <th>TotalDue</th>\n",
              "      <th>NumberofItems</th>\n",
              "      <th>Order_Year</th>\n",
              "    </tr>\n",
              "  </thead>\n",
              "  <tbody>\n",
              "    <tr>\n",
              "      <th>0</th>\n",
              "      <td>Amy Alberts</td>\n",
              "      <td>2155978</td>\n",
              "      <td>8.264175e+05</td>\n",
              "      <td>586</td>\n",
              "      <td>78503</td>\n",
              "    </tr>\n",
              "    <tr>\n",
              "      <th>1</th>\n",
              "      <td>David Campbell</td>\n",
              "      <td>9966638</td>\n",
              "      <td>4.207895e+06</td>\n",
              "      <td>2247</td>\n",
              "      <td>380364</td>\n",
              "    </tr>\n",
              "    <tr>\n",
              "      <th>2</th>\n",
              "      <td>Garrett Vargas</td>\n",
              "      <td>12415186</td>\n",
              "      <td>4.069422e+06</td>\n",
              "      <td>3284</td>\n",
              "      <td>470937</td>\n",
              "    </tr>\n",
              "    <tr>\n",
              "      <th>3</th>\n",
              "      <td>Jae Pak</td>\n",
              "      <td>19195780</td>\n",
              "      <td>9.585125e+06</td>\n",
              "      <td>6738</td>\n",
              "      <td>700480</td>\n",
              "    </tr>\n",
              "    <tr>\n",
              "      <th>4</th>\n",
              "      <td>Jillian Carson</td>\n",
              "      <td>24928694</td>\n",
              "      <td>1.134239e+07</td>\n",
              "      <td>7825</td>\n",
              "      <td>951928</td>\n",
              "    </tr>\n",
              "  </tbody>\n",
              "</table>\n",
              "</div>"
            ],
            "text/plain": [
              "  EmployeeFullName  SalesOrderID      TotalDue  NumberofItems  Order_Year\n",
              "0      Amy Alberts       2155978  8.264175e+05            586       78503\n",
              "1   David Campbell       9966638  4.207895e+06           2247      380364\n",
              "2   Garrett Vargas      12415186  4.069422e+06           3284      470937\n",
              "3          Jae Pak      19195780  9.585125e+06           6738      700480\n",
              "4   Jillian Carson      24928694  1.134239e+07           7825      951928"
            ]
          },
          "metadata": {
            "tags": []
          },
          "execution_count": 92
        }
      ]
    },
    {
      "cell_type": "code",
      "metadata": {
        "id": "NBovRPzVFvoB",
        "colab_type": "code",
        "outputId": "382c254f-6658-4e13-efb2-8dcd59a7ebe0",
        "colab": {
          "base_uri": "https://localhost:8080/",
          "height": 204
        }
      },
      "source": [
        "# Sort it so we visualize it correctly\n",
        "sales_employees.sort_values('TotalDue', ascending=True, inplace = True)\n",
        "sales_employees.head()"
      ],
      "execution_count": 0,
      "outputs": [
        {
          "output_type": "execute_result",
          "data": {
            "text/html": [
              "<div>\n",
              "<style scoped>\n",
              "    .dataframe tbody tr th:only-of-type {\n",
              "        vertical-align: middle;\n",
              "    }\n",
              "\n",
              "    .dataframe tbody tr th {\n",
              "        vertical-align: top;\n",
              "    }\n",
              "\n",
              "    .dataframe thead th {\n",
              "        text-align: right;\n",
              "    }\n",
              "</style>\n",
              "<table border=\"1\" class=\"dataframe\">\n",
              "  <thead>\n",
              "    <tr style=\"text-align: right;\">\n",
              "      <th></th>\n",
              "      <th>EmployeeFullName</th>\n",
              "      <th>SalesOrderID</th>\n",
              "      <th>TotalDue</th>\n",
              "      <th>NumberofItems</th>\n",
              "      <th>Order_Year</th>\n",
              "    </tr>\n",
              "  </thead>\n",
              "  <tbody>\n",
              "    <tr>\n",
              "      <th>14</th>\n",
              "      <td>Syed Abbas</td>\n",
              "      <td>964779</td>\n",
              "      <td>1.955288e+05</td>\n",
              "      <td>245</td>\n",
              "      <td>32212</td>\n",
              "    </tr>\n",
              "    <tr>\n",
              "      <th>0</th>\n",
              "      <td>Amy Alberts</td>\n",
              "      <td>2155978</td>\n",
              "      <td>8.264175e+05</td>\n",
              "      <td>586</td>\n",
              "      <td>78503</td>\n",
              "    </tr>\n",
              "    <tr>\n",
              "      <th>13</th>\n",
              "      <td>Stephen Jiang</td>\n",
              "      <td>2516344</td>\n",
              "      <td>1.235934e+06</td>\n",
              "      <td>792</td>\n",
              "      <td>96602</td>\n",
              "    </tr>\n",
              "    <tr>\n",
              "      <th>7</th>\n",
              "      <td>Lynn Tsoflias</td>\n",
              "      <td>6663235</td>\n",
              "      <td>1.606441e+06</td>\n",
              "      <td>1468</td>\n",
              "      <td>219460</td>\n",
              "    </tr>\n",
              "    <tr>\n",
              "      <th>10</th>\n",
              "      <td>Rachel Valdez</td>\n",
              "      <td>7870176</td>\n",
              "      <td>2.062393e+06</td>\n",
              "      <td>1783</td>\n",
              "      <td>261734</td>\n",
              "    </tr>\n",
              "  </tbody>\n",
              "</table>\n",
              "</div>"
            ],
            "text/plain": [
              "   EmployeeFullName  SalesOrderID      TotalDue  NumberofItems  Order_Year\n",
              "14       Syed Abbas        964779  1.955288e+05            245       32212\n",
              "0       Amy Alberts       2155978  8.264175e+05            586       78503\n",
              "13    Stephen Jiang       2516344  1.235934e+06            792       96602\n",
              "7     Lynn Tsoflias       6663235  1.606441e+06           1468      219460\n",
              "10    Rachel Valdez       7870176  2.062393e+06           1783      261734"
            ]
          },
          "metadata": {
            "tags": []
          },
          "execution_count": 93
        }
      ]
    },
    {
      "cell_type": "code",
      "metadata": {
        "id": "GCJVo_6t4rS0",
        "colab_type": "code",
        "outputId": "90fca5b1-b8b9-4dd0-d53e-13f35da2cccd",
        "colab": {
          "base_uri": "https://localhost:8080/",
          "height": 489
        }
      },
      "source": [
        "# Visualize\n",
        "plt.figure(figsize=(18, 6))\n",
        "sns.barplot(x = 'EmployeeFullName', y = 'TotalDue', data = sales_employees, ci = None)\n",
        "plt.xlabel(\"Channel Type\")\n",
        "plt.xticks(rotation = 45)\n",
        "plt.ylabel(\"Revenue\")\n",
        "plt.title(\"B2B Revenue by Sales Person\")\n",
        "sns.despine()\n",
        "plt.show()"
      ],
      "execution_count": 0,
      "outputs": [
        {
          "output_type": "display_data",
          "data": {
            "image/png": "[encoded data removed]",
            "text/plain": [
              "<Figure size 1296x432 with 1 Axes>"
            ]
          },
          "metadata": {
            "tags": []
          }
        }
      ]
    },
    {
      "cell_type": "code",
      "metadata": {
        "id": "JYIPZ1TL4rPp",
        "colab_type": "code",
        "outputId": "b90c280e-e5ef-456d-da5f-1078c8f4477e",
        "colab": {
          "base_uri": "https://localhost:8080/",
          "height": 204
        }
      },
      "source": [
        "# So how did we do last year/\n",
        "# Group by employee performancee\n",
        "sales_employees = sales_customers_date.groupby(['EmployeeFullName', 'Order_Year']).sum().reset_index()\n",
        "sales_employees.head()"
      ],
      "execution_count": 0,
      "outputs": [
        {
          "output_type": "execute_result",
          "data": {
            "text/html": [
              "<div>\n",
              "<style scoped>\n",
              "    .dataframe tbody tr th:only-of-type {\n",
              "        vertical-align: middle;\n",
              "    }\n",
              "\n",
              "    .dataframe tbody tr th {\n",
              "        vertical-align: top;\n",
              "    }\n",
              "\n",
              "    .dataframe thead th {\n",
              "        text-align: right;\n",
              "    }\n",
              "</style>\n",
              "<table border=\"1\" class=\"dataframe\">\n",
              "  <thead>\n",
              "    <tr style=\"text-align: right;\">\n",
              "      <th></th>\n",
              "      <th>EmployeeFullName</th>\n",
              "      <th>Order_Year</th>\n",
              "      <th>SalesOrderID</th>\n",
              "      <th>TotalDue</th>\n",
              "      <th>NumberofItems</th>\n",
              "    </tr>\n",
              "  </thead>\n",
              "  <tbody>\n",
              "    <tr>\n",
              "      <th>0</th>\n",
              "      <td>Amy Alberts</td>\n",
              "      <td>2012</td>\n",
              "      <td>335313</td>\n",
              "      <td>1.306670e+05</td>\n",
              "      <td>103</td>\n",
              "    </tr>\n",
              "    <tr>\n",
              "      <th>1</th>\n",
              "      <td>Amy Alberts</td>\n",
              "      <td>2013</td>\n",
              "      <td>1618710</td>\n",
              "      <td>6.320026e+05</td>\n",
              "      <td>453</td>\n",
              "    </tr>\n",
              "    <tr>\n",
              "      <th>2</th>\n",
              "      <td>Amy Alberts</td>\n",
              "      <td>2014</td>\n",
              "      <td>201955</td>\n",
              "      <td>6.374784e+04</td>\n",
              "      <td>30</td>\n",
              "    </tr>\n",
              "    <tr>\n",
              "      <th>3</th>\n",
              "      <td>David Campbell</td>\n",
              "      <td>2011</td>\n",
              "      <td>1242002</td>\n",
              "      <td>6.756637e+05</td>\n",
              "      <td>220</td>\n",
              "    </tr>\n",
              "    <tr>\n",
              "      <th>4</th>\n",
              "      <td>David Campbell</td>\n",
              "      <td>2012</td>\n",
              "      <td>2978792</td>\n",
              "      <td>1.453583e+06</td>\n",
              "      <td>741</td>\n",
              "    </tr>\n",
              "  </tbody>\n",
              "</table>\n",
              "</div>"
            ],
            "text/plain": [
              "  EmployeeFullName  Order_Year  SalesOrderID      TotalDue  NumberofItems\n",
              "0      Amy Alberts        2012        335313  1.306670e+05            103\n",
              "1      Amy Alberts        2013       1618710  6.320026e+05            453\n",
              "2      Amy Alberts        2014        201955  6.374784e+04             30\n",
              "3   David Campbell        2011       1242002  6.756637e+05            220\n",
              "4   David Campbell        2012       2978792  1.453583e+06            741"
            ]
          },
          "metadata": {
            "tags": []
          },
          "execution_count": 95
        }
      ]
    },
    {
      "cell_type": "code",
      "metadata": {
        "id": "AYbLj8wHF7Id",
        "colab_type": "code",
        "outputId": "3033e6e2-d9c9-4929-e78e-b636b5f6e82f",
        "colab": {
          "base_uri": "https://localhost:8080/",
          "height": 204
        }
      },
      "source": [
        "# Sort to make it easier to visualize\n",
        "sales_employees.sort_values(['Order_Year','TotalDue'], ascending=True, inplace = True)\n",
        "sales_employees.head()"
      ],
      "execution_count": 0,
      "outputs": [
        {
          "output_type": "execute_result",
          "data": {
            "text/html": [
              "<div>\n",
              "<style scoped>\n",
              "    .dataframe tbody tr th:only-of-type {\n",
              "        vertical-align: middle;\n",
              "    }\n",
              "\n",
              "    .dataframe tbody tr th {\n",
              "        vertical-align: top;\n",
              "    }\n",
              "\n",
              "    .dataframe thead th {\n",
              "        text-align: right;\n",
              "    }\n",
              "</style>\n",
              "<table border=\"1\" class=\"dataframe\">\n",
              "  <thead>\n",
              "    <tr style=\"text-align: right;\">\n",
              "      <th></th>\n",
              "      <th>EmployeeFullName</th>\n",
              "      <th>Order_Year</th>\n",
              "      <th>SalesOrderID</th>\n",
              "      <th>TotalDue</th>\n",
              "      <th>NumberofItems</th>\n",
              "    </tr>\n",
              "  </thead>\n",
              "  <tbody>\n",
              "    <tr>\n",
              "      <th>45</th>\n",
              "      <td>Stephen Jiang</td>\n",
              "      <td>2011</td>\n",
              "      <td>176971</td>\n",
              "      <td>32567.9155</td>\n",
              "      <td>17</td>\n",
              "    </tr>\n",
              "    <tr>\n",
              "      <th>7</th>\n",
              "      <td>Garrett Vargas</td>\n",
              "      <td>2011</td>\n",
              "      <td>1329262</td>\n",
              "      <td>563326.5478</td>\n",
              "      <td>284</td>\n",
              "    </tr>\n",
              "    <tr>\n",
              "      <th>3</th>\n",
              "      <td>David Campbell</td>\n",
              "      <td>2011</td>\n",
              "      <td>1242002</td>\n",
              "      <td>675663.6940</td>\n",
              "      <td>220</td>\n",
              "    </tr>\n",
              "    <tr>\n",
              "      <th>32</th>\n",
              "      <td>Pamela Ansman-Wolfe</td>\n",
              "      <td>2011</td>\n",
              "      <td>974811</td>\n",
              "      <td>730273.4889</td>\n",
              "      <td>273</td>\n",
              "    </tr>\n",
              "    <tr>\n",
              "      <th>28</th>\n",
              "      <td>Michael Blythe</td>\n",
              "      <td>2011</td>\n",
              "      <td>2882387</td>\n",
              "      <td>986298.0902</td>\n",
              "      <td>623</td>\n",
              "    </tr>\n",
              "  </tbody>\n",
              "</table>\n",
              "</div>"
            ],
            "text/plain": [
              "       EmployeeFullName  Order_Year  SalesOrderID     TotalDue  NumberofItems\n",
              "45        Stephen Jiang        2011        176971   32567.9155             17\n",
              "7        Garrett Vargas        2011       1329262  563326.5478            284\n",
              "3        David Campbell        2011       1242002  675663.6940            220\n",
              "32  Pamela Ansman-Wolfe        2011        974811  730273.4889            273\n",
              "28       Michael Blythe        2011       2882387  986298.0902            623"
            ]
          },
          "metadata": {
            "tags": []
          },
          "execution_count": 96
        }
      ]
    },
    {
      "cell_type": "code",
      "metadata": {
        "id": "fCuXVq0l4rLx",
        "colab_type": "code",
        "colab": {}
      },
      "source": [
        "# Who was the best last year?\n",
        "sales_employees_2013 = sales_employees[sales_employees['Order_Year'] == 2013]"
      ],
      "execution_count": 0,
      "outputs": []
    },
    {
      "cell_type": "code",
      "metadata": {
        "id": "OEy96D3W4rJC",
        "colab_type": "code",
        "outputId": "a5bf0894-4dff-4692-d44b-b068eef1d916",
        "colab": {
          "base_uri": "https://localhost:8080/",
          "height": 489
        }
      },
      "source": [
        "# Visualize\n",
        "plt.figure(figsize=(18, 6))\n",
        "sns.barplot(x = 'EmployeeFullName', y = 'TotalDue',\n",
        "            data = sales_employees_2013, ci = None)\n",
        "plt.xlabel(\"Channel Type\")\n",
        "plt.xticks(rotation = 45)\n",
        "plt.ylabel(\"Revenue\")\n",
        "plt.title(\"B2B Revenue by Sales Person\")\n",
        "sns.despine()\n",
        "plt.show()"
      ],
      "execution_count": 0,
      "outputs": [
        {
          "output_type": "display_data",
          "data": {
            "image/png": "[encoded data removed]",
            "text/plain": [
              "<Figure size 1296x432 with 1 Axes>"
            ]
          },
          "metadata": {
            "tags": []
          }
        }
      ]
    },
    {
      "cell_type": "markdown",
      "metadata": {
        "id": "ZiWyqK7RIelL",
        "colab_type": "text"
      },
      "source": [
        "Bonus Question: Calculate and visualize the comission earned by employees in 2012.\n",
        "\n",
        "> Indented block\n",
        "\n"
      ]
    },
    {
      "cell_type": "code",
      "metadata": {
        "id": "XWkBt5AJ4rD5",
        "colab_type": "code",
        "colab": {}
      },
      "source": [
        ""
      ],
      "execution_count": 0,
      "outputs": []
    },
    {
      "cell_type": "code",
      "metadata": {
        "id": "VtFtnEq74rBQ",
        "colab_type": "code",
        "colab": {}
      },
      "source": [
        ""
      ],
      "execution_count": 0,
      "outputs": []
    },
    {
      "cell_type": "code",
      "metadata": {
        "id": "_fzwtbAN4q-b",
        "colab_type": "code",
        "colab": {}
      },
      "source": [
        ""
      ],
      "execution_count": 0,
      "outputs": []
    },
    {
      "cell_type": "code",
      "metadata": {
        "id": "9GQ7Ax2D4jPH",
        "colab_type": "code",
        "colab": {}
      },
      "source": [
        ""
      ],
      "execution_count": 0,
      "outputs": []
    }
  ]
}